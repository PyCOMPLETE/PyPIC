{
 "cells": [
  {
   "cell_type": "markdown",
   "metadata": {},
   "source": [
    "# Setup"
   ]
  },
  {
   "cell_type": "code",
   "execution_count": 1,
   "metadata": {
    "collapsed": false
   },
   "outputs": [
    {
     "name": "stderr",
     "output_type": "stream",
     "text": [
      "/usr/lib64/python2.7/site-packages/matplotlib/font_manager.py:273: UserWarning: Matplotlib is building the font cache using fc-list. This may take a moment.\n",
      "  warnings.warn('Matplotlib is building the font cache using fc-list. This may take a moment.')\n"
     ]
    }
   ],
   "source": [
    "from __future__ import division, print_function\n",
    "\n",
    "import numpy as np\n",
    "from scipy.constants import c, e\n",
    "import matplotlib.pyplot as plt\n",
    "%matplotlib inline\n",
    "\n",
    "np.random.seed(0)"
   ]
  },
  {
   "cell_type": "markdown",
   "metadata": {},
   "source": [
    "### Beam"
   ]
  },
  {
   "cell_type": "code",
   "execution_count": 2,
   "metadata": {
    "collapsed": true
   },
   "outputs": [],
   "source": [
    "# INPUTS\n",
    "n_mp = int(1e6)\n",
    "\n",
    "dE = np.random.randn(n_mp) * 1e6 # [eV]\n",
    "dt = np.random.randn(n_mp) * 1e-7 # [s]\n",
    "\n",
    "gamma = 1.5\n",
    "\n",
    "beta_x = 15\n",
    "beta_y = 20\n",
    "D_x = 2\n",
    "epsn_x = 2e-6\n",
    "epsn_y = 2e-6"
   ]
  },
  {
   "cell_type": "code",
   "execution_count": 3,
   "metadata": {
    "collapsed": true
   },
   "outputs": [],
   "source": [
    "# COMPUTED QUANTITIES\n",
    "beta = np.sqrt(1 - gamma**-2)\n",
    "dp = dE / (beta * c)\n",
    "mu_x = np.random.randn(n_mp) * np.sqrt(epsn_x)\n",
    "mu_y = np.random.randn(n_mp) * np.sqrt(epsn_y)\n",
    "\n",
    "x = np.sqrt(beta_x) * mu_x + D_x * dp\n",
    "y = np.sqrt(beta_y) * mu_y\n",
    "z_beamframe = (-dt * beta * c) * gamma # Lorentz transformed"
   ]
  },
  {
   "cell_type": "code",
   "execution_count": 4,
   "metadata": {
    "collapsed": false
   },
   "outputs": [
    {
     "data": {
      "image/png": "[encoded data removed]",
      "text/plain": [
       "<matplotlib.figure.Figure at 0x29c6290>"
      ]
     },
     "metadata": {},
     "output_type": "display_data"
    }
   ],
   "source": [
    "plt.hist2d(x, y, bins=40);"
   ]
  },
  {
   "cell_type": "code",
   "execution_count": 5,
   "metadata": {
    "collapsed": false
   },
   "outputs": [
    {
     "data": {
      "image/png": "[encoded data removed]",
      "text/plain": [
       "<matplotlib.figure.Figure at 0x414ae90>"
      ]
     },
     "metadata": {},
     "output_type": "display_data"
    }
   ],
   "source": [
    "plt.hist2d(z_beamframe, x, bins=40);"
   ]
  },
  {
   "cell_type": "markdown",
   "metadata": {},
   "source": [
    "### PyPIC Imports"
   ]
  },
  {
   "cell_type": "code",
   "execution_count": 6,
   "metadata": {
    "collapsed": false
   },
   "outputs": [
    {
     "name": "stdout",
     "output_type": "stream",
     "text": [
      "Shared libraries of Fortran versions of m2p/p2m (rhocompute, int_field_for, int_field_for_border) not found. Limited functionality\n",
      "PyKLU not found\n",
      "cusolver_Rf not found\n"
     ]
    }
   ],
   "source": [
    "# Import PyPIC, the particle-in-cell solver\n",
    "# (to be found on github.com/PyCOMPLETE/PyPIC\n",
    "# on the release/integrate-GPU branch as of 2.2.2017, \n",
    "# to be released to master branch at the end of February)\n",
    "# don't forget to `make` before running here\n",
    "import sys, os\n",
    "\n",
    "sys.path.append(os.path.expanduser('~/cern/git/PyPIClib/')) # path to the PyPIC directory\n",
    "\n",
    "# modules inside the PyPIC/GPU directory:\n",
    "try: \n",
    "    from GPU.pypic import PyPIC_GPU\n",
    "    from GPU.poisson_solver.FFT_solver import GPUFFTPoissonSolver, GPUFFTPoissonSolver_2_5D\n",
    "    from GPU import meshing\n",
    "except ImportError:\n",
    "    from pypic import PyPIC_GPU\n",
    "    from poisson_solver.FFT_solver import GPUFFTPoissonSolver, GPUFFTPoissonSolver_2_5D\n",
    "    import meshing"
   ]
  },
  {
   "cell_type": "markdown",
   "metadata": {},
   "source": [
    "### GPU Setup"
   ]
  },
  {
   "cell_type": "code",
   "execution_count": 7,
   "metadata": {
    "collapsed": true
   },
   "outputs": [],
   "source": [
    "# GPU set-up, requires pycuda package\n",
    "\n",
    "arraylib = np\n",
    "mathlib = np\n",
    "from pycuda.autoinit import context\n",
    "from pycuda import cumath\n",
    "from pycuda import gpuarray as gp\n",
    "arraylib = gp\n",
    "mathlib = cumath\n",
    "\n",
    "try:\n",
    "    # ensure everything is on CPU host RAM\n",
    "    x, y, z = x.get(), y.get(), z.get()\n",
    "except AttributeError:\n",
    "    pass"
   ]
  },
  {
   "cell_type": "markdown",
   "metadata": {},
   "source": [
    "### Mesh"
   ]
  },
  {
   "cell_type": "code",
   "execution_count": 8,
   "metadata": {
    "collapsed": false
   },
   "outputs": [],
   "source": [
    "# nodes for the 3D mesh\n",
    "n_nodes = 64, 64, 64\n",
    "distances = map(\n",
    "    lambda ary, n: (np.max(ary) - np.min(ary)) / (n - 3), \n",
    "    [x, y, z_beamframe], n_nodes)\n",
    "origin = map(\n",
    "    lambda ary, d: ary.min() - d,\n",
    "    [x, y, z_beamframe], distances)\n",
    "\n",
    "mesh = meshing.RectMesh3D(\n",
    "    origin=origin,\n",
    "    distances=distances,\n",
    "    n_cells_per_direction=n_nodes,\n",
    "    mathlib=cumath\n",
    ")"
   ]
  },
  {
   "cell_type": "markdown",
   "metadata": {},
   "source": [
    "# Everything ready"
   ]
  },
  {
   "cell_type": "markdown",
   "metadata": {},
   "source": [
    "### 3D field solving"
   ]
  },
  {
   "cell_type": "code",
   "execution_count": 9,
   "metadata": {
    "collapsed": false
   },
   "outputs": [],
   "source": [
    "solver = GPUFFTPoissonSolver(mesh, context=context)\n",
    "# takes a mesh due to preallocation of memory (even though it's not soooo beautiful :D)"
   ]
  },
  {
   "cell_type": "code",
   "execution_count": 10,
   "metadata": {
    "collapsed": false
   },
   "outputs": [],
   "source": [
    "algorithm = PyPIC_GPU(mesh, solver, context)"
   ]
  },
  {
   "cell_type": "code",
   "execution_count": 11,
   "metadata": {
    "collapsed": true
   },
   "outputs": [],
   "source": [
    "# send arrays to GPU device RAM:\n",
    "x, y, z_beamframe = map(gp.to_gpu, [x, y, z_beamframe])"
   ]
  },
  {
   "cell_type": "code",
   "execution_count": 12,
   "metadata": {
    "collapsed": false
   },
   "outputs": [],
   "source": [
    "# check all particles are on mesh\n",
    "node_ids = mesh.get_indices(x, y, z_beamframe) \n",
    "assert all(np.all(\n",
    "        (0 <= nids).get() & (nids < n).get()\n",
    "    ) for nids, n in zip(node_ids, n_nodes))"
   ]
  },
  {
   "cell_type": "code",
   "execution_count": 13,
   "metadata": {
    "collapsed": false
   },
   "outputs": [
    {
     "name": "stdout",
     "output_type": "stream",
     "text": [
      "The slowest run took 7.45 times longer than the fastest. This could mean that an intermediate result is being cached.\n",
      "1 loop, best of 3: 135 ms per loop\n"
     ]
    }
   ],
   "source": [
    "%%timeit\n",
    "# electric fields in the beam frame\n",
    "global E_x, E_y, E_z\n",
    "E_x, E_y, E_z = algorithm.pic_solve(x, y, z_beamframe, charge=e)\n",
    "# before 129ms per loop"
   ]
  },
  {
   "cell_type": "code",
   "execution_count": 14,
   "metadata": {
    "collapsed": false
   },
   "outputs": [],
   "source": [
    "# get arrays back to CPU host RAM:\n",
    "x, y, z_beamframe = x.get(), y.get(), z_beamframe.get()\n",
    "E_x, E_y, E_z = E_x.get(), E_y.get(), E_z.get()"
   ]
  },
  {
   "cell_type": "code",
   "execution_count": 15,
   "metadata": {
    "collapsed": false
   },
   "outputs": [
    {
     "data": {
      "image/png": "[encoded data removed]",
      "text/plain": [
       "<matplotlib.figure.Figure at 0x83dbe10>"
      ]
     },
     "metadata": {},
     "output_type": "display_data"
    }
   ],
   "source": [
    "plt.hist2d(x, E_x, bins=100);"
   ]
  },
  {
   "cell_type": "code",
   "execution_count": 16,
   "metadata": {
    "collapsed": false
   },
   "outputs": [
    {
     "data": {
      "image/png": "[encoded data removed]",
      "text/plain": [
       "<matplotlib.figure.Figure at 0x6b0b510>"
      ]
     },
     "metadata": {},
     "output_type": "display_data"
    }
   ],
   "source": [
    "plt.hist2d(y, E_y, bins=100);"
   ]
  },
  {
   "cell_type": "code",
   "execution_count": 17,
   "metadata": {
    "collapsed": false,
    "scrolled": true
   },
   "outputs": [
    {
     "data": {
      "image/png": "[encoded data removed]",
      "text/plain": [
       "<matplotlib.figure.Figure at 0x6b1fe10>"
      ]
     },
     "metadata": {},
     "output_type": "display_data"
    }
   ],
   "source": [
    "plt.hist2d(z_beamframe, E_z, bins=100);"
   ]
  },
  {
   "cell_type": "markdown",
   "metadata": {},
   "source": [
    "### 2.5D field solving\n",
    "\n",
    "Transverse solving along all slices defined by z direction of mesh:"
   ]
  },
  {
   "cell_type": "code",
   "execution_count": 18,
   "metadata": {
    "collapsed": false
   },
   "outputs": [],
   "source": [
    "solver25d = GPUFFTPoissonSolver_2_5D(mesh, context=context, save_memory=False)"
   ]
  },
  {
   "cell_type": "code",
   "execution_count": 19,
   "metadata": {
    "collapsed": true
   },
   "outputs": [],
   "source": [
    "algorithm25d = PyPIC_GPU(mesh, solver25d, context)"
   ]
  },
  {
   "cell_type": "code",
   "execution_count": 20,
   "metadata": {
    "collapsed": true
   },
   "outputs": [],
   "source": [
    "# send arrays to GPU device RAM:\n",
    "x, y, z_beamframe = map(gp.to_gpu, [x, y, z_beamframe])"
   ]
  },
  {
   "cell_type": "code",
   "execution_count": 21,
   "metadata": {
    "collapsed": false
   },
   "outputs": [
    {
     "name": "stdout",
     "output_type": "stream",
     "text": [
      "10 loops, best of 3: 133 ms per loop\n"
     ]
    }
   ],
   "source": [
    "%%timeit\n",
    "# electric fields in the beam frame\n",
    "global E_x, E_y\n",
    "E_x, E_y, _ = algorithm25d.pic_solve(x, y, z_beamframe, charge=e)\n",
    "#before 116ms per loop"
   ]
  },
  {
   "cell_type": "code",
   "execution_count": 22,
   "metadata": {
    "collapsed": false
   },
   "outputs": [],
   "source": [
    "# get arrays back to CPU host RAM:\n",
    "x, y, z_beamframe = x.get(), y.get(), z_beamframe.get()\n",
    "E_x, E_y = E_x.get(), E_y.get()"
   ]
  },
  {
   "cell_type": "code",
   "execution_count": 23,
   "metadata": {
    "collapsed": false
   },
   "outputs": [
    {
     "data": {
      "image/png": "[encoded data removed]",
      "text/plain": [
       "<matplotlib.figure.Figure at 0x57cd890>"
      ]
     },
     "metadata": {},
     "output_type": "display_data"
    }
   ],
   "source": [
    "plt.hist2d(x, E_x, bins=100);"
   ]
  },
  {
   "cell_type": "code",
   "execution_count": 24,
   "metadata": {
    "collapsed": false
   },
   "outputs": [
    {
     "data": {
      "image/png": "[encoded data removed]",
      "text/plain": [
       "<matplotlib.figure.Figure at 0x7d60b90>"
      ]
     },
     "metadata": {},
     "output_type": "display_data"
    }
   ],
   "source": [
    "plt.hist2d(y, E_y, bins=100);"
   ]
  },
  {
   "cell_type": "markdown",
   "metadata": {},
   "source": [
    "### Inspection"
   ]
  },
  {
   "cell_type": "code",
   "execution_count": 25,
   "metadata": {
    "collapsed": true
   },
   "outputs": [],
   "source": [
    "# send arrays to GPU device RAM:\n",
    "x, y, z_beamframe = map(gp.to_gpu, [x, y, z_beamframe])"
   ]
  },
  {
   "cell_type": "markdown",
   "metadata": {},
   "source": [
    "#### 3D case"
   ]
  },
  {
   "cell_type": "code",
   "execution_count": 26,
   "metadata": {
    "collapsed": false
   },
   "outputs": [
    {
     "name": "stdout",
     "output_type": "stream",
     "text": [
      "10 loops, best of 3: 68.8 ms per loop\n"
     ]
    }
   ],
   "source": [
    "%%timeit\n",
    "global mesh_charges\n",
    "mesh_charges = algorithm.particles_to_mesh(x, y, z_beamframe)\n",
    "#before 58ms per loop"
   ]
  },
  {
   "cell_type": "code",
   "execution_count": 27,
   "metadata": {
    "collapsed": false
   },
   "outputs": [
    {
     "name": "stdout",
     "output_type": "stream",
     "text": [
      "100 loops, best of 3: 4.84 ms per loop\n"
     ]
    }
   ],
   "source": [
    "%%timeit\n",
    "global phi\n",
    "phi = algorithm.poisson_solve(mesh_charges / mesh.volume_elem)\n",
    "#before 9.13ms per loop"
   ]
  },
  {
   "cell_type": "code",
   "execution_count": 28,
   "metadata": {
    "collapsed": false
   },
   "outputs": [
    {
     "name": "stdout",
     "output_type": "stream",
     "text": [
      "1000 loops, best of 3: 1e+03 µs per loop\n"
     ]
    }
   ],
   "source": [
    "%%timeit\n",
    "global E_x_mesh, E_y_mesh, E_z_mesh\n",
    "E_x_mesh, E_y_mesh, E_z_mesh = algorithm.get_electric_fields(phi)\n",
    "context.synchronize()\n",
    "#before 777us per loop"
   ]
  },
  {
   "cell_type": "code",
   "execution_count": 29,
   "metadata": {
    "collapsed": false
   },
   "outputs": [
    {
     "name": "stdout",
     "output_type": "stream",
     "text": [
      "10 loops, best of 3: 62.6 ms per loop\n"
     ]
    }
   ],
   "source": [
    "%%timeit\n",
    "global fields\n",
    "fields = algorithm25d.field_to_particles(\n",
    "    (E_x_mesh, x), (E_y_mesh, y), (E_z_mesh, z_beamframe)\n",
    ")\n",
    "#before 52ms per loop"
   ]
  },
  {
   "cell_type": "markdown",
   "metadata": {},
   "source": [
    "#### 2.5D case"
   ]
  },
  {
   "cell_type": "code",
   "execution_count": 30,
   "metadata": {
    "collapsed": false
   },
   "outputs": [
    {
     "name": "stdout",
     "output_type": "stream",
     "text": [
      "10 loops, best of 3: 67.6 ms per loop\n"
     ]
    }
   ],
   "source": [
    "%%timeit\n",
    "global mesh_charges\n",
    "mesh_charges = algorithm25d.particles_to_mesh(x, y, z_beamframe)\n",
    "#before 57.7ms per loop"
   ]
  },
  {
   "cell_type": "code",
   "execution_count": 31,
   "metadata": {
    "collapsed": false
   },
   "outputs": [
    {
     "name": "stdout",
     "output_type": "stream",
     "text": [
      "100 loops, best of 3: 4.47 ms per loop\n"
     ]
    }
   ],
   "source": [
    "%%timeit\n",
    "global phi\n",
    "phi = algorithm25d.poisson_solve(mesh_charges / (mesh.dx * mesh.dy))\n",
    "#before 4.87ms per loop"
   ]
  },
  {
   "cell_type": "code",
   "execution_count": 32,
   "metadata": {
    "collapsed": false
   },
   "outputs": [
    {
     "name": "stdout",
     "output_type": "stream",
     "text": [
      "1000 loops, best of 3: 993 µs per loop\n"
     ]
    }
   ],
   "source": [
    "%%timeit\n",
    "global E_x_mesh, E_y_mesh, dummy\n",
    "E_x_mesh, E_y_mesh, dummy = algorithm25d.get_electric_fields(phi)\n",
    "context.synchronize()\n",
    "#before 788us per loop"
   ]
  },
  {
   "cell_type": "code",
   "execution_count": 33,
   "metadata": {
    "collapsed": false
   },
   "outputs": [
    {
     "name": "stdout",
     "output_type": "stream",
     "text": [
      "10 loops, best of 3: 62.7 ms per loop\n"
     ]
    }
   ],
   "source": [
    "%%timeit\n",
    "global fields\n",
    "fields = algorithm25d.field_to_particles(\n",
    "    (E_x_mesh, x), (E_y_mesh, y), (dummy, z_beamframe)\n",
    ")\n",
    "#before 51.1ms per loop"
   ]
  },
  {
   "cell_type": "markdown",
   "metadata": {},
   "source": [
    "#### done:"
   ]
  },
  {
   "cell_type": "code",
   "execution_count": 34,
   "metadata": {
    "collapsed": false
   },
   "outputs": [],
   "source": [
    "# get arrays back to CPU host RAM:\n",
    "x, y, z_beamframe = x.get(), y.get(), z_beamframe.get()"
   ]
  },
  {
   "cell_type": "markdown",
   "metadata": {},
   "source": [
    ".\n",
    "\n",
    ".\n",
    "\n",
    ".\n",
    "\n",
    ".\n",
    "\n",
    ".\n",
    "\n",
    ".\n",
    "\n",
    ".\n",
    "\n",
    ".\n",
    "\n",
    ".\n",
    "\n",
    ".\n",
    "\n",
    "# meshing"
   ]
  },
  {
   "cell_type": "code",
   "execution_count": 35,
   "metadata": {
    "collapsed": true
   },
   "outputs": [],
   "source": [
    "mesh.mathlib = np"
   ]
  },
  {
   "cell_type": "code",
   "execution_count": 36,
   "metadata": {
    "collapsed": false
   },
   "outputs": [
    {
     "name": "stdout",
     "output_type": "stream",
     "text": [
      "10 loops, best of 3: 96.6 ms per loop\n"
     ]
    }
   ],
   "source": [
    "%%timeit\n",
    "global weights_numpy\n",
    "weights_numpy = mesh.get_weights(x, y, z_beamframe)\n",
    "#before 204ms per loop"
   ]
  },
  {
   "cell_type": "code",
   "execution_count": 37,
   "metadata": {
    "collapsed": true
   },
   "outputs": [],
   "source": [
    "mesh.mathlib = cumath"
   ]
  },
  {
   "cell_type": "code",
   "execution_count": 38,
   "metadata": {
    "collapsed": true
   },
   "outputs": [],
   "source": [
    "# send arrays to GPU device RAM:\n",
    "x, y, z_beamframe = map(gp.to_gpu, [x, y, z_beamframe])"
   ]
  },
  {
   "cell_type": "code",
   "execution_count": 39,
   "metadata": {
    "collapsed": false
   },
   "outputs": [
    {
     "name": "stdout",
     "output_type": "stream",
     "text": [
      "10 loops, best of 3: 59.6 ms per loop\n"
     ]
    }
   ],
   "source": [
    "%%timeit\n",
    "global weights\n",
    "weights = mesh.get_weights(x, y, z_beamframe)\n",
    "#before 37.9ms per loop"
   ]
  },
  {
   "cell_type": "code",
   "execution_count": 40,
   "metadata": {
    "collapsed": false
   },
   "outputs": [
    {
     "data": {
      "text/plain": [
       "False"
      ]
     },
     "execution_count": 40,
     "metadata": {},
     "output_type": "execute_result"
    }
   ],
   "source": [
    "np.allclose(weights[0].get(), weights_numpy[0])"
   ]
  },
  {
   "cell_type": "code",
   "execution_count": 41,
   "metadata": {
    "collapsed": false
   },
   "outputs": [
    {
     "name": "stdout",
     "output_type": "stream",
     "text": [
      "(array([440279]),) [ 0.38598574]\n"
     ]
    }
   ],
   "source": [
    "error = np.abs(weights[0].get() - weights_numpy[0])\n",
    "error_ids = np.where(error > 1e-5)\n",
    "print (error_ids, error[error_ids])"
   ]
  },
  {
   "cell_type": "code",
   "execution_count": 42,
   "metadata": {
    "collapsed": false
   },
   "outputs": [
    {
     "data": {
      "text/plain": [
       "(array(62, dtype=int32), array(31, dtype=int32), array(33, dtype=int32))"
      ]
     },
     "execution_count": 42,
     "metadata": {},
     "output_type": "execute_result"
    }
   ],
   "source": [
    "mesh.get_indices(x[440279], y[440279], z_beamframe[440279])"
   ]
  },
  {
   "cell_type": "code",
   "execution_count": 43,
   "metadata": {
    "collapsed": true
   },
   "outputs": [],
   "source": [
    "from pycuda.elementwise import ElementwiseKernel"
   ]
  },
  {
   "cell_type": "code",
   "execution_count": 44,
   "metadata": {
    "collapsed": true
   },
   "outputs": [],
   "source": [
    "get_weights_new = ElementwiseKernel(\n",
    "    # inputs:\n",
    "    'double* x, double* y, double* z, '\n",
    "    # outputs:\n",
    "    'double* weight_ijk, double* weight_i1jk, '\n",
    "    'double* weight_ij1k, double* weight_i1j1k, '\n",
    "    'double* weight_ijk1, double* weight_i1jk1, '\n",
    "    'double* weight_ij1k1, double* weight_i1j1k1',\n",
    "    '''\n",
    "    // indices\n",
    "    double jj = floor((x[i] - {x0:{prec}}) / {dx:{prec}});\n",
    "    double ii = floor((y[i] - {y0:{prec}}) / {dy:{prec}});\n",
    "    double kk = floor((z[i] - {z0:{prec}}) / {dz:{prec}});\n",
    "    \n",
    "    // distances\n",
    "    double dxi = x[i] - ({x0:{prec}} + jj * {dx:{prec}});\n",
    "    double dyi = y[i] - ({y0:{prec}} + ii * {dy:{prec}});\n",
    "    double dzi = z[i] - ({z0:{prec}} + kk * {dz:{prec}});\n",
    "    \n",
    "    // weights\n",
    "    weight_ijk[i] =    (1.-dxi/{dx:{prec}})*(1.-dyi/{dy:{prec}})*(1.-dzi/{dz:{prec}});\n",
    "    weight_i1jk[i] =   (1.-dxi/{dx:{prec}})*(dyi/{dy:{prec}})   *(1.-dzi/{dz:{prec}});\n",
    "    weight_ij1k[i] =   (dxi/{dx:{prec}})   *(1.-dyi/{dy:{prec}})*(1.-dzi/{dz:{prec}});\n",
    "    weight_i1j1k[i] =  (dxi/{dx:{prec}})   *(dyi/{dy:{prec}})   *(1.-dzi/{dz:{prec}});\n",
    "    weight_ijk1[i] =   (1.-dxi/{dx:{prec}})*(1.-dyi/{dy:{prec}})*(dzi/{dz:{prec}});\n",
    "    weight_i1jk1[i] =  (1.-dxi/{dx:{prec}})*(dyi/{dy:{prec}})   *(dzi/{dz:{prec}});\n",
    "    weight_ij1k1[i] =  (dxi/{dx:{prec}})   *(1.-dyi/{dy:{prec}})*(dzi/{dz:{prec}});\n",
    "    weight_i1j1k1[i] = (dxi/{dx:{prec}})   *(dyi/{dy:{prec}})   *(dzi/{dz:{prec}});\n",
    "    '''.format(\n",
    "        x0=mesh.x0, y0=mesh.y0, z0=mesh.z0, \n",
    "        dx=mesh.dx, dy=mesh.dy, dz=mesh.dz,\n",
    "        prec=\".17\"\n",
    "    ), \n",
    "    'get_weights'\n",
    ")"
   ]
  },
  {
   "cell_type": "code",
   "execution_count": 45,
   "metadata": {
    "collapsed": false
   },
   "outputs": [
    {
     "name": "stdout",
     "output_type": "stream",
     "text": [
      "100 loops, best of 3: 5.78 ms per loop\n"
     ]
    }
   ],
   "source": [
    "%%timeit -n 100\n",
    "\n",
    "global weight_ijk, weight_i1jk, weight_ij1k, weight_i1j1k, \\\n",
    "weight_ijk1, weight_i1jk1, weight_ij1k1, weight_i1j1k1\n",
    "\n",
    "(weight_ijk, weight_i1jk, weight_ij1k, weight_i1j1k,\n",
    "weight_ijk1, weight_i1jk1, weight_ij1k1, weight_i1j1k1) = (\n",
    "    gp.empty_like(x) for _ in range(8)\n",
    ")\n",
    "\n",
    "get_weights_new(\n",
    "    # inputs:\n",
    "    x, y, z_beamframe,\n",
    "    # outputs:\n",
    "    weight_ijk, weight_i1jk, weight_ij1k, weight_i1j1k,\n",
    "    weight_ijk1, weight_i1jk1, weight_ij1k1, weight_i1j1k1\n",
    ")\n",
    "context.synchronize()\n",
    "#before 3.73ms per loop"
   ]
  },
  {
   "cell_type": "code",
   "execution_count": 46,
   "metadata": {
    "collapsed": false
   },
   "outputs": [
    {
     "data": {
      "text/plain": [
       "True"
      ]
     },
     "execution_count": 46,
     "metadata": {},
     "output_type": "execute_result"
    }
   ],
   "source": [
    "np.allclose(weights_numpy[0], weight_ijk.get(), atol=1e-14, rtol=1e-15)"
   ]
  },
  {
   "cell_type": "code",
   "execution_count": 47,
   "metadata": {
    "collapsed": false
   },
   "outputs": [],
   "source": [
    "# get arrays back to CPU host RAM:\n",
    "x, y, z_beamframe = x.get(), y.get(), z_beamframe.get()"
   ]
  },
  {
   "cell_type": "markdown",
   "metadata": {
    "collapsed": true
   },
   "source": [
    "### CPU version of C/CUDA code?"
   ]
  },
  {
   "cell_type": "code",
   "execution_count": 48,
   "metadata": {
    "collapsed": true
   },
   "outputs": [],
   "source": [
    "%load_ext Cython"
   ]
  },
  {
   "cell_type": "code",
   "execution_count": 49,
   "metadata": {
    "collapsed": false
   },
   "outputs": [],
   "source": [
    "%load_ext autoreload\n",
    "%autoreload 2"
   ]
  },
  {
   "cell_type": "code",
   "execution_count": 50,
   "metadata": {
    "collapsed": false
   },
   "outputs": [],
   "source": [
    "# compilable with $gcc -std=c99 -fPIC -shared -o get_weights_c.so get_weights_c.c -lm \n",
    "with open('get_weights_c.c', 'wt') as fh:\n",
    "    fh.write('''\n",
    "#include <math.h>\n",
    "\n",
    "void get_weights_c(\n",
    "    // inputs:\n",
    "    double* x, double* y, double* z,\n",
    "    int n,\n",
    "    // outputs:\n",
    "    double* weight_ijk, double* weight_i1jk,\n",
    "    double* weight_ij1k, double* weight_i1j1k,\n",
    "    double* weight_ijk1, double* weight_i1jk1,\n",
    "    double* weight_ij1k1, double* weight_i1j1k1\n",
    ") {{\n",
    "    double jj, ii, kk;\n",
    "    double dxi, dyi, dzi;\n",
    "    for (int i = 0; i < n; i++) {{\n",
    "        // indices\n",
    "        double jj = floor((x[i] - {x0:{prec}}) / {dx:{prec}});\n",
    "        double ii = floor((y[i] - {y0:{prec}}) / {dy:{prec}});\n",
    "        double kk = floor((z[i] - {z0:{prec}}) / {dz:{prec}});\n",
    "\n",
    "        // distances\n",
    "        double dxi = x[i] - ({x0:{prec}} + jj * {dx:{prec}});\n",
    "        double dyi = y[i] - ({y0:{prec}} + ii * {dy:{prec}});\n",
    "        double dzi = z[i] - ({z0:{prec}} + kk * {dz:{prec}});\n",
    "\n",
    "        // weights\n",
    "        weight_ijk[i] =    (1.-dxi/{dx:{prec}})*(1.-dyi/{dy:{prec}})*(1.-dzi/{dz:{prec}});\n",
    "        weight_i1jk[i] =   (1.-dxi/{dx:{prec}})*(dyi/{dy:{prec}})   *(1.-dzi/{dz:{prec}});\n",
    "        weight_ij1k[i] =   (dxi/{dx:{prec}})   *(1.-dyi/{dy:{prec}})*(1.-dzi/{dz:{prec}});\n",
    "        weight_i1j1k[i] =  (dxi/{dx:{prec}})   *(dyi/{dy:{prec}})   *(1.-dzi/{dz:{prec}});\n",
    "        weight_ijk1[i] =   (1.-dxi/{dx:{prec}})*(1.-dyi/{dy:{prec}})*(dzi/{dz:{prec}});\n",
    "        weight_i1jk1[i] =  (1.-dxi/{dx:{prec}})*(dyi/{dy:{prec}})   *(dzi/{dz:{prec}});\n",
    "        weight_ij1k1[i] =  (dxi/{dx:{prec}})   *(1.-dyi/{dy:{prec}})*(dzi/{dz:{prec}});\n",
    "        weight_i1j1k1[i] = (dxi/{dx:{prec}})   *(dyi/{dy:{prec}})   *(dzi/{dz:{prec}});\n",
    "    }}\n",
    "}}\n",
    "    '''.format(\n",
    "        x0=mesh.x0, y0=mesh.y0, z0=mesh.z0, \n",
    "        dx=mesh.dx, dy=mesh.dy, dz=mesh.dz,\n",
    "        prec=\".17\")\n",
    "    )"
   ]
  },
  {
   "cell_type": "markdown",
   "metadata": {},
   "source": [
    "##### ctypes import"
   ]
  },
  {
   "cell_type": "code",
   "execution_count": 51,
   "metadata": {
    "collapsed": true
   },
   "outputs": [],
   "source": [
    "!gcc -std=c99 -fPIC -shared -o get_weights_c.so get_weights_c.c -lm"
   ]
  },
  {
   "cell_type": "code",
   "execution_count": 52,
   "metadata": {
    "collapsed": true
   },
   "outputs": [],
   "source": [
    "import ctypes"
   ]
  },
  {
   "cell_type": "code",
   "execution_count": 53,
   "metadata": {
    "collapsed": true
   },
   "outputs": [],
   "source": [
    "from numpy.ctypeslib import ndpointer\n",
    "np_double_p = ndpointer(dtype=np.float64)"
   ]
  },
  {
   "cell_type": "code",
   "execution_count": 54,
   "metadata": {
    "collapsed": true
   },
   "outputs": [],
   "source": [
    "dll = ctypes.cdll.LoadLibrary('get_weights_c.so')\n",
    "dll.get_weights_c.restype = None\n",
    "dll.get_weights_c.argtypes = [\n",
    "    np_double_p, np_double_p, np_double_p, ctypes.c_int, \n",
    "    np_double_p, np_double_p, np_double_p, np_double_p,\n",
    "    np_double_p, np_double_p, np_double_p, np_double_p]"
   ]
  },
  {
   "cell_type": "code",
   "execution_count": 55,
   "metadata": {
    "collapsed": false
   },
   "outputs": [
    {
     "name": "stdout",
     "output_type": "stream",
     "text": [
      "10 loops, best of 3: 223 ms per loop\n"
     ]
    }
   ],
   "source": [
    "%%timeit -n 10\n",
    "\n",
    "global weight_ijk, weight_i1jk, weight_ij1k, weight_i1j1k, \\\n",
    "weight_ijk1, weight_i1jk1, weight_ij1k1, weight_i1j1k1\n",
    "\n",
    "(weight_ijk, weight_i1jk, weight_ij1k, weight_i1j1k,\n",
    "weight_ijk1, weight_i1jk1, weight_ij1k1, weight_i1j1k1) = (\n",
    "    np.empty_like(x) for _ in range(8)\n",
    ")\n",
    "\n",
    "dll.get_weights_c(\n",
    "    x, y, z_beamframe, ctypes.c_int(len(x)),\n",
    "    weight_ijk, weight_i1jk, weight_ij1k, weight_i1j1k,\n",
    "    weight_ijk1, weight_i1jk1, weight_ij1k1, weight_i1j1k1\n",
    ")"
   ]
  },
  {
   "cell_type": "code",
   "execution_count": 56,
   "metadata": {
    "collapsed": false
   },
   "outputs": [
    {
     "data": {
      "text/plain": [
       "True"
      ]
     },
     "execution_count": 56,
     "metadata": {},
     "output_type": "execute_result"
    }
   ],
   "source": [
    "np.allclose(weights_numpy[0], weight_ijk, atol=1e-14, rtol=1e-15)"
   ]
  },
  {
   "cell_type": "markdown",
   "metadata": {},
   "source": [
    "##### cython import"
   ]
  },
  {
   "cell_type": "code",
   "execution_count": 57,
   "metadata": {
    "collapsed": false
   },
   "outputs": [],
   "source": [
    "%%cython --name get_weights_cy\n",
    "# distutils: sources = ./get_weights_c.c\n",
    "# distutils: extra_compile_args = -std=c99 -O3 -lm\n",
    "\n",
    "import numpy as np\n",
    "cimport numpy as np\n",
    "\n",
    "cdef extern void get_weights_c(\n",
    "        # inputs:\n",
    "        double* x, double* y, double* z,\n",
    "        int n,\n",
    "        # outputs:\n",
    "        double* weight_ijk, double* weight_i1jk,\n",
    "        double* weight_ij1k, double* weight_i1j1k,\n",
    "        double* weight_ijk1, double* weight_i1jk1,\n",
    "        double* weight_ij1k1, double* weight_i1j1k1)\n",
    "\n",
    "def get_weights(x, y, z):\n",
    "    cdef np.ndarray[np.double_t, ndim=1, mode=\"c\"] x_c = np.ascontiguousarray(x, dtype=np.double)\n",
    "    cdef np.ndarray[np.double_t, ndim=1, mode=\"c\"] y_c = np.ascontiguousarray(y, dtype=np.double)\n",
    "    cdef np.ndarray[np.double_t, ndim=1, mode=\"c\"] z_c = np.ascontiguousarray(z, dtype=np.double)\n",
    "    \n",
    "    cdef np.ndarray[np.double_t, ndim=1, mode=\"c\"] weight_ijk = np.empty_like(x_c)\n",
    "    cdef np.ndarray[np.double_t, ndim=1, mode=\"c\"] weight_i1jk = np.empty_like(x_c)\n",
    "    cdef np.ndarray[np.double_t, ndim=1, mode=\"c\"] weight_ij1k = np.empty_like(x_c)\n",
    "    cdef np.ndarray[np.double_t, ndim=1, mode=\"c\"] weight_i1j1k = np.empty_like(x_c)\n",
    "    cdef np.ndarray[np.double_t, ndim=1, mode=\"c\"] weight_ijk1 = np.empty_like(x_c)\n",
    "    cdef np.ndarray[np.double_t, ndim=1, mode=\"c\"] weight_i1jk1 = np.empty_like(x_c)\n",
    "    cdef np.ndarray[np.double_t, ndim=1, mode=\"c\"] weight_ij1k1 = np.empty_like(x_c)\n",
    "    cdef np.ndarray[np.double_t, ndim=1, mode=\"c\"] weight_i1j1k1 = np.empty_like(x_c)\n",
    "    \n",
    "    get_weights_c(\n",
    "        &x_c[0], &y_c[0], &z_c[0], len(x_c),\n",
    "        &weight_ijk[0], &weight_i1jk[0],\n",
    "        &weight_ij1k[0], &weight_i1j1k[0],\n",
    "        &weight_ijk1[0], &weight_i1jk1[0],\n",
    "        &weight_ij1k1[0], &weight_i1j1k1[0]\n",
    "    )\n",
    "    \n",
    "    return (weight_ijk, weight_i1jk, weight_ij1k, weight_i1j1k,\n",
    "            weight_ijk1, weight_i1jk1, weight_ij1k1, weight_i1j1k1)"
   ]
  },
  {
   "cell_type": "code",
   "execution_count": 58,
   "metadata": {
    "collapsed": true
   },
   "outputs": [],
   "source": [
    "import get_weights_cy"
   ]
  },
  {
   "cell_type": "code",
   "execution_count": 59,
   "metadata": {
    "collapsed": false
   },
   "outputs": [
    {
     "name": "stdout",
     "output_type": "stream",
     "text": [
      "10 loops, best of 3: 58.4 ms per loop\n"
     ]
    }
   ],
   "source": [
    "%%timeit -n 10\n",
    "\n",
    "global weight_ijk, weight_i1jk, weight_ij1k, weight_i1j1k, \\\n",
    "weight_ijk1, weight_i1jk1, weight_ij1k1, weight_i1j1k1\n",
    "\n",
    "(weight_ijk, weight_i1jk, weight_ij1k, weight_i1j1k,\n",
    "weight_ijk1, weight_i1jk1, weight_ij1k1, weight_i1j1k1) = \\\n",
    "    get_weights_cy.get_weights(x, y, z_beamframe)"
   ]
  },
  {
   "cell_type": "code",
   "execution_count": 60,
   "metadata": {
    "collapsed": false
   },
   "outputs": [
    {
     "data": {
      "text/plain": [
       "True"
      ]
     },
     "execution_count": 60,
     "metadata": {},
     "output_type": "execute_result"
    }
   ],
   "source": [
    "np.allclose(weights_numpy[0], weight_ijk, atol=1e-14, rtol=1e-15)"
   ]
  },
  {
   "cell_type": "markdown",
   "metadata": {},
   "source": [
    "##### so cython is 4x faster than the normal numpy version or the compiled C ctypes-imported version!"
   ]
  },
  {
   "cell_type": "markdown",
   "metadata": {},
   "source": [
    "# double atomicAdd version emulated vs. hardware-accelerated"
   ]
  },
  {
   "cell_type": "code",
   "execution_count": 48,
   "metadata": {
    "collapsed": false
   },
   "outputs": [
    {
     "data": {
      "text/plain": [
       "'Tesla P100-SXM2-16GB'"
      ]
     },
     "execution_count": 48,
     "metadata": {},
     "output_type": "execute_result"
    }
   ],
   "source": [
    "context.get_device().name()"
   ]
  },
  {
   "cell_type": "markdown",
   "metadata": {},
   "source": [
    "The Tesla P100 supports cuda computing compatibility 6.0 which includes hardware accelerated double atomics.\n",
    "\n",
    "Here, we compare the timing of the usual emulated double atomics to the new hardware accelerated version for numbers that are relevant for PIC algorithms in beam dynamics."
   ]
  },
  {
   "cell_type": "code",
   "execution_count": 49,
   "metadata": {
    "collapsed": true
   },
   "outputs": [],
   "source": [
    "from pycuda.compiler import SourceModule"
   ]
  },
  {
   "cell_type": "code",
   "execution_count": 50,
   "metadata": {
    "collapsed": false
   },
   "outputs": [],
   "source": [
    "tmod = SourceModule(\n",
    "'''static __inline__ __device__ double atomicAdd_emu(double* address, double val)\n",
    "{\n",
    "    unsigned long long int* address_as_ull =\n",
    "                              (unsigned long long int*)address;\n",
    "    unsigned long long int old = *address_as_ull, assumed;\n",
    "\n",
    "    if (val==0.0)\n",
    "        return __longlong_as_double(old);\n",
    "    do {\n",
    "        assumed = old;\n",
    "        old = atomicCAS(address_as_ull, assumed,\n",
    "                        __double_as_longlong(val +\n",
    "                               __longlong_as_double(assumed)));\n",
    "\n",
    "    // Note: uses integer comparison to avoid hang in case of NaN (since NaN != NaN)\n",
    "    } while (assumed != old);\n",
    "\n",
    "    return __longlong_as_double(old);\n",
    "}\n",
    "\n",
    "extern \"C\" {\n",
    "\n",
    "__global__ void p2m_emu(int dest_size, int src_size, double* dest, double* src) {\n",
    "    int pidx = blockIdx.x * blockDim.x + threadIdx.x;\n",
    "    if (pidx < src_size) {\n",
    "        int idx = pidx % dest_size;\n",
    "        atomicAdd_emu(&dest[idx], src[pidx]);\n",
    "    }\n",
    "}\n",
    "\n",
    "__global__ void p2m_acc(int dest_size, int src_size, double* dest, double* src) {\n",
    "    int pidx = blockIdx.x * blockDim.x + threadIdx.x;\n",
    "    if (pidx < src_size) {\n",
    "        int idx = pidx % dest_size;\n",
    "        atomicAdd(&dest[idx], src[pidx]);\n",
    "    }\n",
    "}\n",
    "\n",
    "}\n",
    "''')\n"
   ]
  },
  {
   "cell_type": "code",
   "execution_count": 51,
   "metadata": {
    "collapsed": false
   },
   "outputs": [
    {
     "data": {
      "text/plain": [
       "<pycuda._driver.Function at 0x7d94578>"
      ]
     },
     "execution_count": 51,
     "metadata": {},
     "output_type": "execute_result"
    }
   ],
   "source": [
    "p2m_emu = tmod.get_function('p2m_emu')\n",
    "p2m_acc = tmod.get_function('p2m_acc')\n",
    "\n",
    "p2m_emu.prepare('iiPP')\n",
    "p2m_acc.prepare('iiPP')"
   ]
  },
  {
   "cell_type": "code",
   "execution_count": 52,
   "metadata": {
    "collapsed": false
   },
   "outputs": [],
   "source": [
    "src_size = int(1e8)\n",
    "dest_size = 128*128*64\n",
    "\n",
    "np.random.seed(42)\n",
    "src_np = np.random.rand(src_size)\n",
    "src = gp.to_gpu(src_np)\n",
    "\n",
    "# dest_np = np.zeros(dest_size, dtype=np.float64)\n",
    "# for pidx in range(src_size):\n",
    "#     idx = pidx % dest_size\n",
    "#     dest_np[idx] += src_np[pidx]\n",
    "intermediate = np.zeros((src_size // dest_size + 1) * dest_size, dtype=np.float64)\n",
    "intermediate[:src_size] = src_np\n",
    "dest_np = intermediate.reshape(-1, dest_size).sum(axis=0)"
   ]
  },
  {
   "cell_type": "code",
   "execution_count": 53,
   "metadata": {
    "collapsed": false
   },
   "outputs": [],
   "source": [
    "dest1 = gp.zeros(dest_size, dtype=np.float64)\n",
    "p2m_emu.prepared_call(\n",
    "    (src_size // 256 + 1, 1, 1), #grid\n",
    "    (256, 1, 1), #block\n",
    "    dest_size, src_size, \n",
    "    dest1.gpudata, src.gpudata)"
   ]
  },
  {
   "cell_type": "code",
   "execution_count": 54,
   "metadata": {
    "collapsed": true
   },
   "outputs": [],
   "source": [
    "assert np.allclose(dest_np, dest1.get())"
   ]
  },
  {
   "cell_type": "code",
   "execution_count": 55,
   "metadata": {
    "collapsed": true
   },
   "outputs": [],
   "source": [
    "dest2 = gp.zeros(dest_size, dtype=np.float64)\n",
    "p2m_acc.prepared_call(\n",
    "    (src_size // 256 + 1, 1, 1), #grid\n",
    "    (256, 1, 1), #block\n",
    "    dest_size, src_size, \n",
    "    dest2.gpudata, src.gpudata)"
   ]
  },
  {
   "cell_type": "code",
   "execution_count": 56,
   "metadata": {
    "collapsed": false
   },
   "outputs": [],
   "source": [
    "assert np.allclose(dest_np, dest2.get())"
   ]
  },
  {
   "cell_type": "code",
   "execution_count": 57,
   "metadata": {
    "collapsed": true
   },
   "outputs": [],
   "source": [
    "from pycuda import driver\n",
    "\n",
    "start, end = driver.Event(), driver.Event()"
   ]
  },
  {
   "cell_type": "code",
   "execution_count": 58,
   "metadata": {
    "collapsed": false
   },
   "outputs": [
    {
     "name": "stdout",
     "output_type": "stream",
     "text": [
      "100 loops, best: 5.543 ms per loop\n"
     ]
    }
   ],
   "source": [
    "times = []\n",
    "for t in range(100):\n",
    "    start.record()\n",
    "    p2m_emu.prepared_call(\n",
    "        (src_size // 256 + 1, 1, 1), #grid\n",
    "        (256, 1, 1), #block\n",
    "        dest_size, src_size, \n",
    "        dest1.gpudata, src.gpudata)\n",
    "    end.record()\n",
    "    end.synchronize()\n",
    "    times.append(start.time_till(end))\n",
    "print ('100 loops, best: {0:.3f} ms per loop'.format(np.min(times)))"
   ]
  },
  {
   "cell_type": "code",
   "execution_count": 59,
   "metadata": {
    "collapsed": false
   },
   "outputs": [
    {
     "name": "stdout",
     "output_type": "stream",
     "text": [
      "100 loops, best of 3: 5.55 ms per loop\n"
     ]
    }
   ],
   "source": [
    "%%timeit\n",
    "p2m_emu.prepared_call(\n",
    "    (src_size // 256 + 1, 1, 1), #grid\n",
    "    (256, 1, 1), #block\n",
    "    dest_size, src_size, \n",
    "    dest1.gpudata, src.gpudata)\n",
    "context.synchronize()"
   ]
  },
  {
   "cell_type": "code",
   "execution_count": 60,
   "metadata": {
    "collapsed": false
   },
   "outputs": [
    {
     "name": "stdout",
     "output_type": "stream",
     "text": [
      "100 loops, best: 4.543 ms per loop\n"
     ]
    }
   ],
   "source": [
    "times = []\n",
    "for t in range(100):\n",
    "    start.record()\n",
    "    p2m_acc.prepared_call(\n",
    "        (src_size // 256 + 1, 1, 1), #grid\n",
    "        (256, 1, 1), #block\n",
    "        dest_size, src_size, \n",
    "        dest1.gpudata, src.gpudata)\n",
    "    end.record()\n",
    "    end.synchronize()\n",
    "    times.append(start.time_till(end))\n",
    "print ('100 loops, best: {0:.3f} ms per loop'.format(np.min(times)))"
   ]
  },
  {
   "cell_type": "code",
   "execution_count": 61,
   "metadata": {
    "collapsed": false
   },
   "outputs": [
    {
     "name": "stdout",
     "output_type": "stream",
     "text": [
      "100 loops, best of 3: 4.55 ms per loop\n"
     ]
    }
   ],
   "source": [
    "%%timeit\n",
    "p2m_acc.prepared_call(\n",
    "    (src_size // 256 + 1, 1, 1), #grid\n",
    "    (256, 1, 1), #block\n",
    "    dest_size, src_size, \n",
    "    dest1.gpudata, src.gpudata)\n",
    "context.synchronize()"
   ]
  },
  {
   "cell_type": "code",
   "execution_count": 62,
   "metadata": {
    "collapsed": false
   },
   "outputs": [
    {
     "data": {
      "text/plain": [
       "0.8216216216216216"
      ]
     },
     "execution_count": 62,
     "metadata": {},
     "output_type": "execute_result"
    }
   ],
   "source": [
    "4.56/5.55"
   ]
  },
  {
   "cell_type": "markdown",
   "metadata": {},
   "source": [
    "$\\implies$ the hardware accelerated version is close to $20\\%$ faster."
   ]
  },
  {
   "cell_type": "markdown",
   "metadata": {},
   "source": [
    "## What about the impact of grid-striding (minimising thread launching overhead)?"
   ]
  },
  {
   "cell_type": "code",
   "execution_count": 63,
   "metadata": {
    "collapsed": true
   },
   "outputs": [],
   "source": [
    "tmod_gs = SourceModule(\n",
    "'''static __inline__ __device__ double atomicAdd_emu(double* address, double val)\n",
    "{\n",
    "    unsigned long long int* address_as_ull =\n",
    "                              (unsigned long long int*)address;\n",
    "    unsigned long long int old = *address_as_ull, assumed;\n",
    "\n",
    "    if (val==0.0)\n",
    "        return __longlong_as_double(old);\n",
    "    do {\n",
    "        assumed = old;\n",
    "        old = atomicCAS(address_as_ull, assumed,\n",
    "                        __double_as_longlong(val +\n",
    "                               __longlong_as_double(assumed)));\n",
    "\n",
    "    // Note: uses integer comparison to avoid hang in case of NaN (since NaN != NaN)\n",
    "    } while (assumed != old);\n",
    "\n",
    "    return __longlong_as_double(old);\n",
    "}\n",
    "\n",
    "extern \"C\" {\n",
    "\n",
    "__global__ void p2m_emu(int dest_size, int src_size, double* dest, double* src) {\n",
    "    for (int pidx = blockIdx.x * blockDim.x + threadIdx.x;\n",
    "            pidx < src_size;\n",
    "            pidx += blockDim.x * gridDim.x) {\n",
    "        int idx = pidx % dest_size;\n",
    "        atomicAdd_emu(&dest[idx], src[pidx]);\n",
    "    }\n",
    "}\n",
    "\n",
    "__global__ void p2m_acc(int dest_size, int src_size, double* dest, double* src) {\n",
    "    for (int pidx = blockIdx.x * blockDim.x + threadIdx.x;\n",
    "            pidx < src_size;\n",
    "            pidx += blockDim.x * gridDim.x) {\n",
    "        int idx = pidx % dest_size;\n",
    "        atomicAdd(&dest[idx], src[pidx]);\n",
    "    }\n",
    "}\n",
    "\n",
    "}\n",
    "''')\n"
   ]
  },
  {
   "cell_type": "code",
   "execution_count": 64,
   "metadata": {
    "collapsed": false,
    "scrolled": true
   },
   "outputs": [
    {
     "data": {
      "text/plain": [
       "<pycuda._driver.Function at 0x7d86578>"
      ]
     },
     "execution_count": 64,
     "metadata": {},
     "output_type": "execute_result"
    }
   ],
   "source": [
    "p2m_emu_gs = tmod_gs.get_function('p2m_emu')\n",
    "p2m_acc_gs = tmod_gs.get_function('p2m_acc')\n",
    "\n",
    "p2m_emu_gs.prepare('iiPP')\n",
    "p2m_acc_gs.prepare('iiPP')"
   ]
  },
  {
   "cell_type": "code",
   "execution_count": 65,
   "metadata": {
    "collapsed": false
   },
   "outputs": [],
   "source": [
    "dest1 = gp.zeros(dest_size, dtype=np.float64)\n",
    "p2m_emu_gs.prepared_call(\n",
    "    (src_size // 256 + 1, 1, 1), #grid\n",
    "    (256, 1, 1), #block\n",
    "    dest_size, src_size, \n",
    "    dest1.gpudata, src.gpudata)"
   ]
  },
  {
   "cell_type": "code",
   "execution_count": 66,
   "metadata": {
    "collapsed": true
   },
   "outputs": [],
   "source": [
    "assert np.allclose(dest_np, dest1.get())"
   ]
  },
  {
   "cell_type": "code",
   "execution_count": 70,
   "metadata": {
    "collapsed": true
   },
   "outputs": [],
   "source": [
    "dest2 = gp.zeros(dest_size, dtype=np.float64)\n",
    "p2m_acc_gs.prepared_call(\n",
    "    (src_size // 256 + 1, 1, 1), #grid\n",
    "    (256, 1, 1), #block\n",
    "    dest_size, src_size, \n",
    "    dest2.gpudata, src.gpudata)"
   ]
  },
  {
   "cell_type": "code",
   "execution_count": 71,
   "metadata": {
    "collapsed": false
   },
   "outputs": [],
   "source": [
    "assert np.allclose(dest_np, dest2.get())"
   ]
  },
  {
   "cell_type": "code",
   "execution_count": 72,
   "metadata": {
    "collapsed": true
   },
   "outputs": [],
   "source": [
    "from pycuda import driver\n",
    "\n",
    "start, end = driver.Event(), driver.Event()"
   ]
  },
  {
   "cell_type": "code",
   "execution_count": 112,
   "metadata": {
    "collapsed": false
   },
   "outputs": [],
   "source": [
    "n_particles_per_thread = [1,2,4,8,16,32,64,128]\n",
    "block_dims = [128, 256, 512, 1024]\n",
    "\n",
    "timing_results = {}\n",
    "\n",
    "for bd in block_dims:\n",
    "    timing_results[bd] = []\n",
    "    for nppt in n_particles_per_thread:\n",
    "        times = []\n",
    "        for t in range(100):\n",
    "            dest1 = gp.zeros(dest_size, dtype=np.float64)\n",
    "            start.record()\n",
    "            p2m_emu_gs.prepared_call(\n",
    "                ((src_size // bd + 1) // nppt, 1, 1), #grid\n",
    "                (bd, 1, 1), #block\n",
    "                dest_size, src_size, \n",
    "                dest1.gpudata, src.gpudata)\n",
    "            end.record()\n",
    "            end.synchronize()\n",
    "            times.append(start.time_till(end))\n",
    "        timing_results[bd].append(np.min(times))"
   ]
  },
  {
   "cell_type": "code",
   "execution_count": 115,
   "metadata": {
    "collapsed": false
   },
   "outputs": [
    {
     "data": {
      "text/plain": [
       "<matplotlib.text.Text at 0x15aeefd0>"
      ]
     },
     "execution_count": 115,
     "metadata": {},
     "output_type": "execute_result"
    },
    {
     "data": {
      "image/png": "[encoded data removed]",
      "text/plain": [
       "<matplotlib.figure.Figure at 0x15d0ce10>"
      ]
     },
     "metadata": {},
     "output_type": "display_data"
    }
   ],
   "source": [
    "for block_dim, tres in timing_results.iteritems():\n",
    "    plt.plot(n_particles_per_thread, tres, label=block_dim)\n",
    "plt.legend(loc=4, title='block dimension')\n",
    "plt.xscale('log')\n",
    "plt.xlim(min(n_particles_per_thread) / 2, max(n_particles_per_thread) * 2)\n",
    "plt.title('emulated atomicAdd FP64')\n",
    "plt.xlabel('# particles treated per thread (grid-striding)')\n",
    "plt.ylabel('total timing [ms]')"
   ]
  },
  {
   "cell_type": "code",
   "execution_count": 119,
   "metadata": {
    "collapsed": true
   },
   "outputs": [],
   "source": [
    "n_particles_per_thread = [1,2,4,8,16,32,64,128,256,512]\n",
    "block_dims = [128, 256, 512, 1024]\n",
    "\n",
    "timing_results2 = {}\n",
    "\n",
    "for bd in block_dims:\n",
    "    timing_results2[bd] = []\n",
    "    for nppt in n_particles_per_thread:\n",
    "        times = []\n",
    "        for t in range(100):\n",
    "            dest1 = gp.zeros(dest_size, dtype=np.float64)\n",
    "            start.record()\n",
    "            p2m_acc_gs.prepared_call(\n",
    "                ((src_size // bd + 1) // nppt, 1, 1), #grid\n",
    "                (bd, 1, 1), #block\n",
    "                dest_size, src_size, \n",
    "                dest1.gpudata, src.gpudata)\n",
    "            end.record()\n",
    "            end.synchronize()\n",
    "            times.append(start.time_till(end))\n",
    "        timing_results2[bd].append(np.min(times))"
   ]
  },
  {
   "cell_type": "code",
   "execution_count": 120,
   "metadata": {
    "collapsed": false
   },
   "outputs": [
    {
     "data": {
      "image/png": "[encoded data removed]",
      "text/plain": [
       "<matplotlib.figure.Figure at 0x15f87b10>"
      ]
     },
     "metadata": {},
     "output_type": "display_data"
    }
   ],
   "source": [
    "for block_dim, tres in timing_results2.iteritems():\n",
    "    plt.plot(n_particles_per_thread, tres, label=block_dim)\n",
    "plt.legend(loc=3, title='block dimension')\n",
    "plt.xscale('log')\n",
    "plt.xlim(min(n_particles_per_thread) / 2, max(n_particles_per_thread) * 2)\n",
    "plt.title('hardware accelerated atomicAdd FP64')\n",
    "plt.xlabel('# particles treated per thread (grid-striding)')\n",
    "plt.ylabel('total timing [ms]');"
   ]
  },
  {
   "cell_type": "code",
   "execution_count": 123,
   "metadata": {
    "collapsed": false
   },
   "outputs": [
    {
     "data": {
      "text/plain": [
       "0.7477477477477479"
      ]
     },
     "execution_count": 123,
     "metadata": {},
     "output_type": "execute_result"
    }
   ],
   "source": [
    "4.15/5.55"
   ]
  },
  {
   "cell_type": "markdown",
   "metadata": {},
   "source": [
    "The block size does not seem to play a major role.\n",
    "\n",
    "The grid-striding approach does not improve the emulated atomicAdd version. In contrast, it helps for the hardware accelerated atomicAdd version, where treating several particles per thread launch possibly profits from memory coalesced access.\n",
    "\n",
    "$\\implies$ By treating $\\approx 100$ particles per thread launch, we can gain $10\\%$ compared to 1 particle = 1 thread for the hardware accelerated atomicAdd. \n",
    "\n",
    "$\\implies$ This means a $25\\%$ total speed-up of the hardwareaccelerated atomicAdd with grid-striding compared to emulated double precision atomicAdd."
   ]
  },
  {
   "cell_type": "code",
   "execution_count": null,
   "metadata": {
    "collapsed": true
   },
   "outputs": [],
   "source": []
  }
 ],
 "metadata": {
  "kernelspec": {
   "display_name": "Python 2",
   "language": "python",
   "name": "python2"
  },
  "language_info": {
   "codemirror_mode": {
    "name": "ipython",
    "version": 2
   },
   "file_extension": ".py",
   "mimetype": "text/x-python",
   "name": "python",
   "nbconvert_exporter": "python",
   "pygments_lexer": "ipython2",
   "version": "2.7.5"
  }
 },
 "nbformat": 4,
 "nbformat_minor": 0
}
