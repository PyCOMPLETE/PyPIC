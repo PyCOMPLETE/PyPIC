{
 "cells": [
  {
   "cell_type": "markdown",
   "metadata": {},
   "source": [
    "# Setup"
   ]
  },
  {
   "cell_type": "code",
   "execution_count": 1,
   "metadata": {
    "collapsed": true
   },
   "outputs": [],
   "source": [
    "from __future__ import division, print_function\n",
    "\n",
    "import numpy as np\n",
    "from scipy.constants import c, e\n",
    "import matplotlib.pyplot as plt\n",
    "%matplotlib inline\n",
    "\n",
    "np.random.seed(0)"
   ]
  },
  {
   "cell_type": "markdown",
   "metadata": {},
   "source": [
    "### Beam"
   ]
  },
  {
   "cell_type": "code",
   "execution_count": 2,
   "metadata": {
    "collapsed": true
   },
   "outputs": [],
   "source": [
    "# INPUTS\n",
    "n_mp = int(1e6)\n",
    "\n",
    "dE = np.random.randn(n_mp) * 1e6 # [eV]\n",
    "dt = np.random.randn(n_mp) * 1e-7 # [s]\n",
    "\n",
    "gamma = 1.5\n",
    "\n",
    "beta_x = 15\n",
    "beta_y = 20\n",
    "D_x = 2\n",
    "epsn_x = 2e-6\n",
    "epsn_y = 2e-6"
   ]
  },
  {
   "cell_type": "code",
   "execution_count": 3,
   "metadata": {
    "collapsed": true
   },
   "outputs": [],
   "source": [
    "# COMPUTED QUANTITIES\n",
    "beta = np.sqrt(1 - gamma**-2)\n",
    "dp = dE / (beta * c)\n",
    "mu_x = np.random.randn(n_mp) * np.sqrt(epsn_x)\n",
    "mu_y = np.random.randn(n_mp) * np.sqrt(epsn_y)\n",
    "\n",
    "x = np.sqrt(beta_x) * mu_x + D_x * dp\n",
    "y = np.sqrt(beta_y) * mu_y\n",
    "z_beamframe = (-dt * beta * c) * gamma # Lorentz transformed"
   ]
  },
  {
   "cell_type": "code",
   "execution_count": 4,
   "metadata": {
    "collapsed": false
   },
   "outputs": [
    {
     "data": {
      "image/png": "[encoded data removed]",
      "text/plain": [
       "<matplotlib.figure.Figure at 0x7ff70d29c650>"
      ]
     },
     "metadata": {},
     "output_type": "display_data"
    }
   ],
   "source": [
    "plt.hist2d(x, y, bins=40);"
   ]
  },
  {
   "cell_type": "code",
   "execution_count": 5,
   "metadata": {
    "collapsed": false
   },
   "outputs": [
    {
     "data": {
      "image/png": "[encoded data removed]",
      "text/plain": [
       "<matplotlib.figure.Figure at 0x7ff730020bd0>"
      ]
     },
     "metadata": {},
     "output_type": "display_data"
    }
   ],
   "source": [
    "plt.hist2d(z_beamframe, x, bins=40);"
   ]
  },
  {
   "cell_type": "markdown",
   "metadata": {},
   "source": [
    "### PyPIC Imports"
   ]
  },
  {
   "cell_type": "code",
   "execution_count": 6,
   "metadata": {
    "collapsed": false
   },
   "outputs": [
    {
     "name": "stdout",
     "output_type": "stream",
     "text": [
      "PyKLU not found\n"
     ]
    }
   ],
   "source": [
    "# Import PyPIC, the particle-in-cell solver\n",
    "# (to be found on github.com/PyCOMPLETE/PyPIC\n",
    "# on the release/integrate-GPU branch as of 2.2.2017, \n",
    "# to be released to master branch at the end of February)\n",
    "# don't forget to `make` before running here\n",
    "import sys\n",
    "\n",
    "sys.path.append('/home/oeftiger/cern/git/PyPIC') # path to the PyPIC directory\n",
    "\n",
    "# modules inside the PyPIC/GPU directory:\n",
    "from GPU.pypic import PyPIC_GPU\n",
    "from GPU.poisson_solver.FFT_solver import GPUFFTPoissonSolver, GPUFFTPoissonSolver_2_5D\n",
    "from GPU import meshing"
   ]
  },
  {
   "cell_type": "markdown",
   "metadata": {},
   "source": [
    "### GPU Setup"
   ]
  },
  {
   "cell_type": "code",
   "execution_count": 7,
   "metadata": {
    "collapsed": true
   },
   "outputs": [],
   "source": [
    "# GPU set-up, requires pycuda package\n",
    "\n",
    "arraylib = np\n",
    "mathlib = np\n",
    "from pycuda.autoinit import context\n",
    "from pycuda import cumath\n",
    "from pycuda import gpuarray as gp\n",
    "arraylib = gp\n",
    "mathlib = cumath\n",
    "\n",
    "try:\n",
    "    # ensure everything is on CPU host RAM\n",
    "    x, y, z = x.get(), y.get(), z.get()\n",
    "except AttributeError:\n",
    "    pass"
   ]
  },
  {
   "cell_type": "markdown",
   "metadata": {},
   "source": [
    "### Mesh"
   ]
  },
  {
   "cell_type": "code",
   "execution_count": 8,
   "metadata": {
    "collapsed": false
   },
   "outputs": [],
   "source": [
    "# nodes for the 3D mesh\n",
    "n_nodes = 64, 64, 64\n",
    "distances = map(\n",
    "    lambda ary, n: (np.max(ary) - np.min(ary)) / (n - 3), \n",
    "    [x, y, z_beamframe], n_nodes)\n",
    "origin = map(\n",
    "    lambda ary, d: ary.min() - d,\n",
    "    [x, y, z_beamframe], distances)\n",
    "\n",
    "mesh = meshing.RectMesh3D(\n",
    "    origin=origin,\n",
    "    distances=distances,\n",
    "    n_cells_per_direction=n_nodes,\n",
    "    mathlib=cumath\n",
    ")"
   ]
  },
  {
   "cell_type": "markdown",
   "metadata": {},
   "source": [
    "# Everything ready"
   ]
  },
  {
   "cell_type": "markdown",
   "metadata": {},
   "source": [
    "### 3D field solving"
   ]
  },
  {
   "cell_type": "code",
   "execution_count": 9,
   "metadata": {
    "collapsed": false
   },
   "outputs": [],
   "source": [
    "solver = GPUFFTPoissonSolver(mesh, context=context)\n",
    "# takes a mesh due to preallocation of memory (even though it's not soooo beautiful :D)"
   ]
  },
  {
   "cell_type": "code",
   "execution_count": 10,
   "metadata": {
    "collapsed": true
   },
   "outputs": [],
   "source": [
    "algorithm = PyPIC_GPU(mesh, solver, context)"
   ]
  },
  {
   "cell_type": "code",
   "execution_count": 11,
   "metadata": {
    "collapsed": true
   },
   "outputs": [],
   "source": [
    "# send arrays to GPU device RAM:\n",
    "x, y, z_beamframe = map(gp.to_gpu, [x, y, z_beamframe])"
   ]
  },
  {
   "cell_type": "code",
   "execution_count": 12,
   "metadata": {
    "collapsed": false
   },
   "outputs": [],
   "source": [
    "# check all particles are on mesh\n",
    "node_ids = mesh.get_indices(x, y, z_beamframe) \n",
    "assert all(np.all(\n",
    "        (0 <= nids).get() & (nids < n).get()\n",
    "    ) for nids, n in zip(node_ids, n_nodes))"
   ]
  },
  {
   "cell_type": "code",
   "execution_count": 13,
   "metadata": {
    "collapsed": false
   },
   "outputs": [
    {
     "name": "stdout",
     "output_type": "stream",
     "text": [
      "The slowest run took 14.40 times longer than the fastest. This could mean that an intermediate result is being cached.\n",
      "1 loop, best of 3: 129 ms per loop\n"
     ]
    }
   ],
   "source": [
    "%%timeit\n",
    "# electric fields in the beam frame\n",
    "global E_x, E_y, E_z\n",
    "E_x, E_y, E_z = algorithm.pic_solve(x, y, z_beamframe, charge=e)"
   ]
  },
  {
   "cell_type": "code",
   "execution_count": 14,
   "metadata": {
    "collapsed": false
   },
   "outputs": [],
   "source": [
    "# get arrays back to CPU host RAM:\n",
    "x, y, z_beamframe = x.get(), y.get(), z_beamframe.get()\n",
    "E_x, E_y, E_z = E_x.get(), E_y.get(), E_z.get()"
   ]
  },
  {
   "cell_type": "code",
   "execution_count": 15,
   "metadata": {
    "collapsed": false
   },
   "outputs": [
    {
     "data": {
      "image/png": "[encoded data removed]",
      "text/plain": [
       "<matplotlib.figure.Figure at 0x7ff6ea3a9c50>"
      ]
     },
     "metadata": {},
     "output_type": "display_data"
    }
   ],
   "source": [
    "plt.hist2d(x, E_x, bins=100);"
   ]
  },
  {
   "cell_type": "code",
   "execution_count": 16,
   "metadata": {
    "collapsed": false
   },
   "outputs": [
    {
     "data": {
      "image/png": "[encoded data removed]",
      "text/plain": [
       "<matplotlib.figure.Figure at 0x7ff6ea2ce9d0>"
      ]
     },
     "metadata": {},
     "output_type": "display_data"
    }
   ],
   "source": [
    "plt.hist2d(y, E_y, bins=100);"
   ]
  },
  {
   "cell_type": "code",
   "execution_count": 17,
   "metadata": {
    "collapsed": false,
    "scrolled": true
   },
   "outputs": [
    {
     "data": {
      "image/png": "[encoded data removed]",
      "text/plain": [
       "<matplotlib.figure.Figure at 0x7ff708895450>"
      ]
     },
     "metadata": {},
     "output_type": "display_data"
    }
   ],
   "source": [
    "plt.hist2d(z_beamframe, E_z, bins=100);"
   ]
  },
  {
   "cell_type": "markdown",
   "metadata": {},
   "source": [
    "### 2.5D field solving\n",
    "\n",
    "Transverse solving along all slices defined by z direction of mesh:"
   ]
  },
  {
   "cell_type": "code",
   "execution_count": 18,
   "metadata": {
    "collapsed": false
   },
   "outputs": [],
   "source": [
    "solver25d = GPUFFTPoissonSolver_2_5D(mesh, context=context, save_memory=False)"
   ]
  },
  {
   "cell_type": "code",
   "execution_count": 19,
   "metadata": {
    "collapsed": true
   },
   "outputs": [],
   "source": [
    "algorithm25d = PyPIC_GPU(mesh, solver25d, context)"
   ]
  },
  {
   "cell_type": "code",
   "execution_count": 20,
   "metadata": {
    "collapsed": true
   },
   "outputs": [],
   "source": [
    "# send arrays to GPU device RAM:\n",
    "x, y, z_beamframe = map(gp.to_gpu, [x, y, z_beamframe])"
   ]
  },
  {
   "cell_type": "code",
   "execution_count": 21,
   "metadata": {
    "collapsed": false
   },
   "outputs": [
    {
     "name": "stdout",
     "output_type": "stream",
     "text": [
      "10 loops, best of 3: 116 ms per loop\n"
     ]
    }
   ],
   "source": [
    "%%timeit\n",
    "# electric fields in the beam frame\n",
    "global E_x, E_y\n",
    "E_x, E_y, _ = algorithm25d.pic_solve(x, y, z_beamframe, charge=e)"
   ]
  },
  {
   "cell_type": "code",
   "execution_count": 22,
   "metadata": {
    "collapsed": false
   },
   "outputs": [],
   "source": [
    "# get arrays back to CPU host RAM:\n",
    "x, y, z_beamframe = x.get(), y.get(), z_beamframe.get()\n",
    "E_x, E_y = E_x.get(), E_y.get()"
   ]
  },
  {
   "cell_type": "code",
   "execution_count": 23,
   "metadata": {
    "collapsed": false
   },
   "outputs": [
    {
     "data": {
      "image/png": "[encoded data removed]",
      "text/plain": [
       "<matplotlib.figure.Figure at 0x7ff6e9787310>"
      ]
     },
     "metadata": {},
     "output_type": "display_data"
    }
   ],
   "source": [
    "plt.hist2d(x, E_x, bins=100);"
   ]
  },
  {
   "cell_type": "code",
   "execution_count": 24,
   "metadata": {
    "collapsed": false
   },
   "outputs": [
    {
     "data": {
      "image/png": "[encoded data removed]",
      "text/plain": [
       "<matplotlib.figure.Figure at 0x7ff708742990>"
      ]
     },
     "metadata": {},
     "output_type": "display_data"
    }
   ],
   "source": [
    "plt.hist2d(y, E_y, bins=100);"
   ]
  },
  {
   "cell_type": "markdown",
   "metadata": {},
   "source": [
    "### Inspection"
   ]
  },
  {
   "cell_type": "code",
   "execution_count": 25,
   "metadata": {
    "collapsed": true
   },
   "outputs": [],
   "source": [
    "# send arrays to GPU device RAM:\n",
    "x, y, z_beamframe = map(gp.to_gpu, [x, y, z_beamframe])"
   ]
  },
  {
   "cell_type": "markdown",
   "metadata": {},
   "source": [
    "#### 3D case"
   ]
  },
  {
   "cell_type": "code",
   "execution_count": 26,
   "metadata": {
    "collapsed": false
   },
   "outputs": [
    {
     "name": "stdout",
     "output_type": "stream",
     "text": [
      "10 loops, best of 3: 58 ms per loop\n"
     ]
    }
   ],
   "source": [
    "%%timeit\n",
    "global mesh_charges\n",
    "mesh_charges = algorithm.particles_to_mesh(x, y, z_beamframe)"
   ]
  },
  {
   "cell_type": "code",
   "execution_count": 27,
   "metadata": {
    "collapsed": false
   },
   "outputs": [
    {
     "name": "stdout",
     "output_type": "stream",
     "text": [
      "100 loops, best of 3: 9.13 ms per loop\n"
     ]
    }
   ],
   "source": [
    "%%timeit\n",
    "global phi\n",
    "phi = algorithm.poisson_solve(mesh_charges / mesh.volume_elem)"
   ]
  },
  {
   "cell_type": "code",
   "execution_count": 28,
   "metadata": {
    "collapsed": false
   },
   "outputs": [
    {
     "name": "stdout",
     "output_type": "stream",
     "text": [
      "1000 loops, best of 3: 777 µs per loop\n"
     ]
    }
   ],
   "source": [
    "%%timeit\n",
    "global E_x_mesh, E_y_mesh, E_z_mesh\n",
    "E_x_mesh, E_y_mesh, E_z_mesh = algorithm.get_electric_fields(phi)\n",
    "context.synchronize()"
   ]
  },
  {
   "cell_type": "code",
   "execution_count": 29,
   "metadata": {
    "collapsed": false
   },
   "outputs": [
    {
     "name": "stdout",
     "output_type": "stream",
     "text": [
      "10 loops, best of 3: 52 ms per loop\n"
     ]
    }
   ],
   "source": [
    "%%timeit\n",
    "global fields\n",
    "fields = algorithm25d.field_to_particles(\n",
    "    (E_x_mesh, x), (E_y_mesh, y), (E_z_mesh, z_beamframe)\n",
    ")"
   ]
  },
  {
   "cell_type": "markdown",
   "metadata": {},
   "source": [
    "#### 2.5D case"
   ]
  },
  {
   "cell_type": "code",
   "execution_count": 30,
   "metadata": {
    "collapsed": false
   },
   "outputs": [
    {
     "name": "stdout",
     "output_type": "stream",
     "text": [
      "10 loops, best of 3: 57.7 ms per loop\n"
     ]
    }
   ],
   "source": [
    "%%timeit\n",
    "global mesh_charges\n",
    "mesh_charges = algorithm25d.particles_to_mesh(x, y, z_beamframe)"
   ]
  },
  {
   "cell_type": "code",
   "execution_count": 31,
   "metadata": {
    "collapsed": false
   },
   "outputs": [
    {
     "name": "stdout",
     "output_type": "stream",
     "text": [
      "100 loops, best of 3: 4.87 ms per loop\n"
     ]
    }
   ],
   "source": [
    "%%timeit\n",
    "global phi\n",
    "phi = algorithm25d.poisson_solve(mesh_charges / (mesh.dx * mesh.dy))"
   ]
  },
  {
   "cell_type": "code",
   "execution_count": 32,
   "metadata": {
    "collapsed": false
   },
   "outputs": [
    {
     "name": "stdout",
     "output_type": "stream",
     "text": [
      "1000 loops, best of 3: 788 µs per loop\n"
     ]
    }
   ],
   "source": [
    "%%timeit\n",
    "global E_x_mesh, E_y_mesh, dummy\n",
    "E_x_mesh, E_y_mesh, dummy = algorithm25d.get_electric_fields(phi)\n",
    "context.synchronize()"
   ]
  },
  {
   "cell_type": "code",
   "execution_count": 33,
   "metadata": {
    "collapsed": false
   },
   "outputs": [
    {
     "name": "stdout",
     "output_type": "stream",
     "text": [
      "10 loops, best of 3: 51.1 ms per loop\n"
     ]
    }
   ],
   "source": [
    "%%timeit\n",
    "global fields\n",
    "fields = algorithm25d.field_to_particles(\n",
    "    (E_x_mesh, x), (E_y_mesh, y), (dummy, z_beamframe)\n",
    ")"
   ]
  },
  {
   "cell_type": "markdown",
   "metadata": {},
   "source": [
    "#### done:"
   ]
  },
  {
   "cell_type": "code",
   "execution_count": 34,
   "metadata": {
    "collapsed": false
   },
   "outputs": [],
   "source": [
    "# get arrays back to CPU host RAM:\n",
    "x, y, z_beamframe = x.get(), y.get(), z_beamframe.get()"
   ]
  },
  {
   "cell_type": "markdown",
   "metadata": {},
   "source": [
    ".\n",
    "\n",
    ".\n",
    "\n",
    ".\n",
    "\n",
    ".\n",
    "\n",
    ".\n",
    "\n",
    ".\n",
    "\n",
    ".\n",
    "\n",
    ".\n",
    "\n",
    ".\n",
    "\n",
    ".\n",
    "\n",
    "# meshing"
   ]
  },
  {
   "cell_type": "code",
   "execution_count": 35,
   "metadata": {
    "collapsed": true
   },
   "outputs": [],
   "source": [
    "mesh.mathlib = np"
   ]
  },
  {
   "cell_type": "code",
   "execution_count": 36,
   "metadata": {
    "collapsed": false
   },
   "outputs": [
    {
     "name": "stdout",
     "output_type": "stream",
     "text": [
      "1 loop, best of 3: 204 ms per loop\n"
     ]
    }
   ],
   "source": [
    "%%timeit\n",
    "global weights_numpy\n",
    "weights_numpy = mesh.get_weights(x, y, z_beamframe)"
   ]
  },
  {
   "cell_type": "code",
   "execution_count": 37,
   "metadata": {
    "collapsed": true
   },
   "outputs": [],
   "source": [
    "mesh.mathlib = cumath"
   ]
  },
  {
   "cell_type": "code",
   "execution_count": 241,
   "metadata": {
    "collapsed": true
   },
   "outputs": [],
   "source": [
    "# send arrays to GPU device RAM:\n",
    "x, y, z_beamframe = map(gp.to_gpu, [x, y, z_beamframe])"
   ]
  },
  {
   "cell_type": "code",
   "execution_count": 39,
   "metadata": {
    "collapsed": false
   },
   "outputs": [
    {
     "name": "stdout",
     "output_type": "stream",
     "text": [
      "10 loops, best of 3: 37.9 ms per loop\n"
     ]
    }
   ],
   "source": [
    "%%timeit\n",
    "global weights\n",
    "weights = mesh.get_weights(x, y, z_beamframe)"
   ]
  },
  {
   "cell_type": "code",
   "execution_count": 40,
   "metadata": {
    "collapsed": false
   },
   "outputs": [
    {
     "data": {
      "text/plain": [
       "False"
      ]
     },
     "execution_count": 40,
     "metadata": {},
     "output_type": "execute_result"
    }
   ],
   "source": [
    "np.allclose(weights[0].get(), weights_numpy[0])"
   ]
  },
  {
   "cell_type": "code",
   "execution_count": 41,
   "metadata": {
    "collapsed": false
   },
   "outputs": [
    {
     "name": "stdout",
     "output_type": "stream",
     "text": [
      "(array([440279]),) [ 0.38598574]\n"
     ]
    }
   ],
   "source": [
    "error = np.abs(weights[0].get() - weights_numpy[0])\n",
    "error_ids = np.where(error > 1e-5)\n",
    "print (error_ids, error[error_ids])"
   ]
  },
  {
   "cell_type": "code",
   "execution_count": 42,
   "metadata": {
    "collapsed": false
   },
   "outputs": [
    {
     "data": {
      "text/plain": [
       "(array(62, dtype=int32), array(31, dtype=int32), array(33, dtype=int32))"
      ]
     },
     "execution_count": 42,
     "metadata": {},
     "output_type": "execute_result"
    }
   ],
   "source": [
    "mesh.get_indices(x[440279], y[440279], z_beamframe[440279])"
   ]
  },
  {
   "cell_type": "code",
   "execution_count": 43,
   "metadata": {
    "collapsed": true
   },
   "outputs": [],
   "source": [
    "from pycuda.elementwise import ElementwiseKernel"
   ]
  },
  {
   "cell_type": "code",
   "execution_count": 63,
   "metadata": {
    "collapsed": true
   },
   "outputs": [],
   "source": [
    "get_weights_new = ElementwiseKernel(\n",
    "    # inputs:\n",
    "    'double* x, double* y, double* z, '\n",
    "    # outputs:\n",
    "    'double* weight_ijk, double* weight_i1jk, '\n",
    "    'double* weight_ij1k, double* weight_i1j1k, '\n",
    "    'double* weight_ijk1, double* weight_i1jk1, '\n",
    "    'double* weight_ij1k1, double* weight_i1j1k1',\n",
    "    '''\n",
    "    // indices\n",
    "    double jj = floor((x[i] - {x0:{prec}}) / {dx:{prec}});\n",
    "    double ii = floor((y[i] - {y0:{prec}}) / {dy:{prec}});\n",
    "    double kk = floor((z[i] - {z0:{prec}}) / {dz:{prec}});\n",
    "    \n",
    "    // distances\n",
    "    double dxi = x[i] - ({x0:{prec}} + jj * {dx:{prec}});\n",
    "    double dyi = y[i] - ({y0:{prec}} + ii * {dy:{prec}});\n",
    "    double dzi = z[i] - ({z0:{prec}} + kk * {dz:{prec}});\n",
    "    \n",
    "    // weights\n",
    "    weight_ijk[i] =    (1.-dxi/{dx:{prec}})*(1.-dyi/{dy:{prec}})*(1.-dzi/{dz:{prec}});\n",
    "    weight_i1jk[i] =   (1.-dxi/{dx:{prec}})*(dyi/{dy:{prec}})   *(1.-dzi/{dz:{prec}});\n",
    "    weight_ij1k[i] =   (dxi/{dx:{prec}})   *(1.-dyi/{dy:{prec}})*(1.-dzi/{dz:{prec}});\n",
    "    weight_i1j1k[i] =  (dxi/{dx:{prec}})   *(dyi/{dy:{prec}})   *(1.-dzi/{dz:{prec}});\n",
    "    weight_ijk1[i] =   (1.-dxi/{dx:{prec}})*(1.-dyi/{dy:{prec}})*(dzi/{dz:{prec}});\n",
    "    weight_i1jk1[i] =  (1.-dxi/{dx:{prec}})*(dyi/{dy:{prec}})   *(dzi/{dz:{prec}});\n",
    "    weight_ij1k1[i] =  (dxi/{dx:{prec}})   *(1.-dyi/{dy:{prec}})*(dzi/{dz:{prec}});\n",
    "    weight_i1j1k1[i] = (dxi/{dx:{prec}})   *(dyi/{dy:{prec}})   *(dzi/{dz:{prec}});\n",
    "    '''.format(\n",
    "        x0=mesh.x0, y0=mesh.y0, z0=mesh.z0, \n",
    "        dx=mesh.dx, dy=mesh.dy, dz=mesh.dz,\n",
    "        prec=\".17\"\n",
    "    ), \n",
    "    'get_weights'\n",
    ")"
   ]
  },
  {
   "cell_type": "code",
   "execution_count": 155,
   "metadata": {
    "collapsed": false
   },
   "outputs": [
    {
     "name": "stdout",
     "output_type": "stream",
     "text": [
      "100 loops, best of 3: 3.66 ms per loop\n"
     ]
    }
   ],
   "source": [
    "%%timeit -n 100\n",
    "\n",
    "global weight_ijk, weight_i1jk, weight_ij1k, weight_i1j1k, \\\n",
    "weight_ijk1, weight_i1jk1, weight_ij1k1, weight_i1j1k1\n",
    "\n",
    "(weight_ijk, weight_i1jk, weight_ij1k, weight_i1j1k,\n",
    "weight_ijk1, weight_i1jk1, weight_ij1k1, weight_i1j1k1) = (\n",
    "    gp.empty_like(x) for _ in range(8)\n",
    ")\n",
    "\n",
    "get_weights_new(\n",
    "    # inputs:\n",
    "    x, y, z_beamframe,\n",
    "    # outputs:\n",
    "    weight_ijk, weight_i1jk, weight_ij1k, weight_i1j1k,\n",
    "    weight_ijk1, weight_i1jk1, weight_ij1k1, weight_i1j1k1\n",
    ")\n",
    "context.synchronize()"
   ]
  },
  {
   "cell_type": "markdown",
   "metadata": {},
   "source": [
    "$\\Longrightarrow$ kernel $10\\times$ faster than python + GPUArray version!"
   ]
  },
  {
   "cell_type": "code",
   "execution_count": 46,
   "metadata": {
    "collapsed": false
   },
   "outputs": [
    {
     "data": {
      "text/plain": [
       "True"
      ]
     },
     "execution_count": 46,
     "metadata": {},
     "output_type": "execute_result"
    }
   ],
   "source": [
    "np.allclose(weights_numpy[0], weight_ijk.get(), atol=1e-14, rtol=1e-15)"
   ]
  },
  {
   "cell_type": "code",
   "execution_count": 67,
   "metadata": {
    "collapsed": false
   },
   "outputs": [],
   "source": [
    "get_weights_new_flex = ElementwiseKernel(\n",
    "    # inputs:\n",
    "    'double* x, double* y, double* z, '\n",
    "    'const double x0, const double y0, const double z0, '\n",
    "    'const double dx, const double dy, const double dz, '\n",
    "    # outputs:\n",
    "    'double* weight_ijk, double* weight_i1jk, '\n",
    "    'double* weight_ij1k, double* weight_i1j1k, '\n",
    "    'double* weight_ijk1, double* weight_i1jk1, '\n",
    "    'double* weight_ij1k1, double* weight_i1j1k1',\n",
    "    '''\n",
    "    // indices\n",
    "    double jj = floor((x[i] - x0) / dx);\n",
    "    double ii = floor((y[i] - y0) / dy);\n",
    "    double kk = floor((z[i] - z0) / dz);\n",
    "    \n",
    "    // distances\n",
    "    double dxi = x[i] - (x0 + jj * dx);\n",
    "    double dyi = y[i] - (y0 + ii * dy);\n",
    "    double dzi = z[i] - (z0 + kk * dz);\n",
    "    \n",
    "    // weights\n",
    "    weight_ijk[i] =    (1.-dxi/dx)*(1.-dyi/dy)*(1.-dzi/dz);\n",
    "    weight_i1jk[i] =   (1.-dxi/dx)*(dyi/dy)   *(1.-dzi/dz);\n",
    "    weight_ij1k[i] =   (dxi/dx)   *(1.-dyi/dy)*(1.-dzi/dz);\n",
    "    weight_i1j1k[i] =  (dxi/dx)   *(dyi/dy)   *(1.-dzi/dz);\n",
    "    weight_ijk1[i] =   (1.-dxi/dx)*(1.-dyi/dy)*(dzi/dz);\n",
    "    weight_i1jk1[i] =  (1.-dxi/dx)*(dyi/dy)   *(dzi/dz);\n",
    "    weight_ij1k1[i] =  (dxi/dx)   *(1.-dyi/dy)*(dzi/dz);\n",
    "    weight_i1j1k1[i] = (dxi/dx)   *(dyi/dy)   *(dzi/dz);\n",
    "    ''', \n",
    "    'get_weights_flex'\n",
    ")"
   ]
  },
  {
   "cell_type": "code",
   "execution_count": 80,
   "metadata": {
    "collapsed": false
   },
   "outputs": [
    {
     "name": "stdout",
     "output_type": "stream",
     "text": [
      "100 loops, best of 3: 3.69 ms per loop\n"
     ]
    }
   ],
   "source": [
    "%%timeit -n 100\n",
    "\n",
    "global weight_ijk, weight_i1jk, weight_ij1k, weight_i1j1k, \\\n",
    "weight_ijk1, weight_i1jk1, weight_ij1k1, weight_i1j1k1\n",
    "\n",
    "(weight_ijk, weight_i1jk, weight_ij1k, weight_i1j1k,\n",
    "weight_ijk1, weight_i1jk1, weight_ij1k1, weight_i1j1k1) = (\n",
    "    gp.empty_like(x) for _ in range(8)\n",
    ")\n",
    "\n",
    "get_weights_new_flex(\n",
    "    # inputs:\n",
    "    x, y, z_beamframe,\n",
    "    mesh.x0, mesh.y0, mesh.z0,\n",
    "    mesh.dx, mesh.dy, mesh.dz,\n",
    "    # outputs:\n",
    "    weight_ijk, weight_i1jk, weight_ij1k, weight_i1j1k,\n",
    "    weight_ijk1, weight_i1jk1, weight_ij1k1, weight_i1j1k1\n",
    ")\n",
    "context.synchronize()"
   ]
  },
  {
   "cell_type": "markdown",
   "metadata": {},
   "source": [
    "$\\Longrightarrow$ no need for individual kernels per mesh (JIT compilation of kernels with respective mesh parameters) as timing is the same"
   ]
  },
  {
   "cell_type": "code",
   "execution_count": 82,
   "metadata": {
    "collapsed": false
   },
   "outputs": [
    {
     "name": "stdout",
     "output_type": "stream",
     "text": [
      "100 loops, best of 3: 5.93 ms per loop\n"
     ]
    }
   ],
   "source": [
    "%timeit mesh.get_indices(x, y, z_beamframe)"
   ]
  },
  {
   "cell_type": "markdown",
   "metadata": {},
   "source": [
    "##### optimising the entire p2m function now:"
   ]
  },
  {
   "cell_type": "code",
   "execution_count": 124,
   "metadata": {
    "collapsed": false
   },
   "outputs": [
    {
     "name": "stdout",
     "output_type": "stream",
     "text": [
      "100 loops, best of 3: 83.3 ms per loop\n"
     ]
    }
   ],
   "source": [
    "%%timeit -n 100 \n",
    "global mesh_charges_ref\n",
    "mesh_charges_ref = algorithm.particles_to_mesh(x, y, z_beamframe, dtype=np.float64)"
   ]
  },
  {
   "cell_type": "code",
   "execution_count": 92,
   "metadata": {
    "collapsed": false
   },
   "outputs": [],
   "source": [
    "get_weights_new_flex2 = ElementwiseKernel(\n",
    "    # inputs:\n",
    "    'double* x, double* y, double* z, '\n",
    "    'const double x0, const double y0, const double z0, '\n",
    "    'const double dx, const double dy, const double dz, '\n",
    "    # outputs:\n",
    "    'double* weight_ijk, double* weight_i1jk, '\n",
    "    'double* weight_ij1k, double* weight_i1j1k, '\n",
    "    'double* weight_ijk1, double* weight_i1jk1, '\n",
    "    'double* weight_ij1k1, double* weight_i1j1k1, '\n",
    "    'int* ii, int* jj, int* kk',\n",
    "    '''\n",
    "    // indices\n",
    "    double jjl = floor((x[i] - x0) / dx);\n",
    "    double iil = floor((y[i] - y0) / dy);\n",
    "    double kkl = floor((z[i] - z0) / dz);\n",
    "\n",
    "    // distances\n",
    "    double dxi = x[i] - (x0 + jjl * dx);\n",
    "    double dyi = y[i] - (y0 + iil * dy);\n",
    "    double dzi = z[i] - (z0 + kkl * dz);\n",
    "\n",
    "    // weights\n",
    "    weight_ijk[i] =    (1.-dxi/dx)*(1.-dyi/dy)*(1.-dzi/dz);\n",
    "    weight_i1jk[i] =   (1.-dxi/dx)*(dyi/dy)   *(1.-dzi/dz);\n",
    "    weight_ij1k[i] =   (dxi/dx)   *(1.-dyi/dy)*(1.-dzi/dz);\n",
    "    weight_i1j1k[i] =  (dxi/dx)   *(dyi/dy)   *(1.-dzi/dz);\n",
    "    weight_ijk1[i] =   (1.-dxi/dx)*(1.-dyi/dy)*(dzi/dz);\n",
    "    weight_i1jk1[i] =  (1.-dxi/dx)*(dyi/dy)   *(dzi/dz);\n",
    "    weight_ij1k1[i] =  (dxi/dx)   *(1.-dyi/dy)*(dzi/dz);\n",
    "    weight_i1j1k1[i] = (dxi/dx)   *(dyi/dy)   *(dzi/dz);\n",
    "\n",
    "    ii[i] = (int) iil;\n",
    "    jj[i] = (int) jjl;\n",
    "    kk[i] = (int) kkl;\n",
    "    ''', \n",
    "    'get_weights_flex2'\n",
    ")"
   ]
  },
  {
   "cell_type": "code",
   "execution_count": 97,
   "metadata": {
    "collapsed": false
   },
   "outputs": [],
   "source": [
    "from GPU.pypic import idivup"
   ]
  },
  {
   "cell_type": "code",
   "execution_count": 156,
   "metadata": {
    "collapsed": false
   },
   "outputs": [
    {
     "name": "stdout",
     "output_type": "stream",
     "text": [
      "100 loops, best of 3: 47.7 ms per loop\n"
     ]
    }
   ],
   "source": [
    "%%timeit -n 100\n",
    "\n",
    "global weight_ijk, weight_i1jk, weight_ij1k, weight_i1j1k, \\\n",
    "weight_ijk1, weight_i1jk1, weight_ij1k1, weight_i1j1k1\n",
    "global i, j, k\n",
    "global mesh_charges\n",
    "\n",
    "(weight_ijk, weight_i1jk, weight_ij1k, weight_i1j1k,\n",
    "weight_ijk1, weight_i1jk1, weight_ij1k1, weight_i1j1k1) = (\n",
    "    gp.empty_like(x) for _ in range(8)\n",
    ")\n",
    "i, j, k = (\n",
    "    gp.empty(x.shape, dtype=np.int32) for _ in range(3)\n",
    ")\n",
    "\n",
    "mesh_charges = gp.empty(mesh.shape, dtype=np.float64)\n",
    "\n",
    "get_weights_new_flex2(\n",
    "    # inputs:\n",
    "    x, y, z_beamframe,\n",
    "    mesh.x0, mesh.y0, mesh.z0,\n",
    "    mesh.dx, mesh.dy, mesh.dz,\n",
    "    # outputs:\n",
    "    weight_ijk, weight_i1jk, weight_ij1k, weight_i1j1k,\n",
    "    weight_ijk1, weight_i1jk1, weight_ij1k1, weight_i1j1k1,\n",
    "    i, j, k\n",
    ")\n",
    "context.synchronize()\n",
    "\n",
    "algorithm._particles_to_mesh_64atomics_kernel.prepared_call(\n",
    "    # grid, block\n",
    "    (idivup(n_mp, 256), 1, 1), (16, 16, 1),\n",
    "    np.int32(n_mp), mesh_charges.gpudata, mesh.nx, mesh.ny, mesh.nz,\n",
    "    weight_ijk.gpudata, weight_i1jk.gpudata, weight_ij1k.gpudata, weight_i1j1k.gpudata,\n",
    "    weight_ijk1.gpudata, weight_i1jk1.gpudata, weight_ij1k1.gpudata, weight_i1j1k1.gpudata,\n",
    "    i.gpudata, j.gpudata, k.gpudata\n",
    ")\n",
    "\n",
    "mesh_charges *= e"
   ]
  },
  {
   "cell_type": "code",
   "execution_count": 164,
   "metadata": {
    "collapsed": false
   },
   "outputs": [
    {
     "name": "stdout",
     "output_type": "stream",
     "text": [
      "Maximal relative error to reference value: 1.0\n"
     ]
    }
   ],
   "source": [
    "error = np.abs(((mesh_charges_ref - mesh_charges) / mesh_charges_ref).get())\n",
    "print ('Maximal relative error to reference value:', \n",
    "       np.max(error[np.isfinite(error)]))"
   ]
  },
  {
   "cell_type": "code",
   "execution_count": 185,
   "metadata": {
    "collapsed": false
   },
   "outputs": [
    {
     "data": {
      "text/plain": [
       "array([  5.01945832e-15,   2.27030466e-14,   5.09573350e-15, ...,\n",
       "         1.16753834e-14,   9.78148849e-15,   1.47571703e-14])"
      ]
     },
     "execution_count": 185,
     "metadata": {},
     "output_type": "execute_result"
    }
   ],
   "source": [
    "error[np.isfinite(error)]"
   ]
  },
  {
   "cell_type": "code",
   "execution_count": 188,
   "metadata": {
    "collapsed": false
   },
   "outputs": [
    {
     "name": "stderr",
     "output_type": "stream",
     "text": [
      "/home/oeftiger/anaconda/lib/python2.7/site-packages/ipykernel/__main__.py:1: RuntimeWarning: invalid value encountered in greater\n",
      "  if __name__ == '__main__':\n"
     ]
    },
    {
     "data": {
      "text/plain": [
       "(array([27, 27, 28, 28, 33, 33, 34, 34, 61, 61, 61, 61]),\n",
       " array([31, 32, 31, 32, 63, 63, 63, 63, 23, 23, 24, 24]),\n",
       " array([63, 63, 63, 63, 31, 32, 31, 32, 22, 23, 22, 23]))"
      ]
     },
     "execution_count": 188,
     "metadata": {},
     "output_type": "execute_result"
    }
   ],
   "source": [
    "np.where(np.isfinite(error) & (error > 1e-5))"
   ]
  },
  {
   "cell_type": "code",
   "execution_count": 189,
   "metadata": {
    "collapsed": false
   },
   "outputs": [
    {
     "data": {
      "text/plain": [
       "array(2.324104674729791e-34)"
      ]
     },
     "execution_count": 189,
     "metadata": {},
     "output_type": "execute_result"
    }
   ],
   "source": [
    "mesh_charges_ref[27, 31, 63]"
   ]
  },
  {
   "cell_type": "code",
   "execution_count": 190,
   "metadata": {
    "collapsed": false
   },
   "outputs": [
    {
     "data": {
      "text/plain": [
       "array(0.0)"
      ]
     },
     "execution_count": 190,
     "metadata": {},
     "output_type": "execute_result"
    }
   ],
   "source": [
    "mesh_charges[27, 31, 63]"
   ]
  },
  {
   "cell_type": "code",
   "execution_count": 191,
   "metadata": {
    "collapsed": false
   },
   "outputs": [
    {
     "data": {
      "text/plain": [
       "1.0"
      ]
     },
     "execution_count": 191,
     "metadata": {},
     "output_type": "execute_result"
    }
   ],
   "source": [
    "error[27, 31, 63]"
   ]
  },
  {
   "cell_type": "code",
   "execution_count": 161,
   "metadata": {
    "collapsed": false
   },
   "outputs": [
    {
     "data": {
      "text/plain": [
       "1000000.0000000001"
      ]
     },
     "execution_count": 161,
     "metadata": {},
     "output_type": "execute_result"
    }
   ],
   "source": [
    "np.sum(mesh_charges_ref.get()/e)"
   ]
  },
  {
   "cell_type": "code",
   "execution_count": 162,
   "metadata": {
    "collapsed": false
   },
   "outputs": [
    {
     "data": {
      "text/plain": [
       "1000000.0000000001"
      ]
     },
     "execution_count": 162,
     "metadata": {},
     "output_type": "execute_result"
    }
   ],
   "source": [
    "np.sum(mesh_charges.get()/e)"
   ]
  },
  {
   "cell_type": "markdown",
   "metadata": {},
   "source": [
    "$\\Longrightarrow$ carrying out `get_weights` in one kernel makes `p2m` a factor 1.8 faster!\n",
    "\n",
    "Can we do better than this by integrating the actual `atomicadd` into the same kernel?"
   ]
  },
  {
   "cell_type": "code",
   "execution_count": 113,
   "metadata": {
    "collapsed": true
   },
   "outputs": [],
   "source": [
    "p2m_kernel_64atomics = ElementwiseKernel(\n",
    "    # inputs:\n",
    "    'const int nparticles, '\n",
    "    'double* x, double* y, double* z, '\n",
    "    'const double x0, const double y0, const double z0, '\n",
    "    'const double dx, const double dy, const double dz, '\n",
    "    'const int nx, const int ny, const int nz, '\n",
    "    # outputs:\n",
    "    'double* grid1d',\n",
    "    '''\n",
    "    // indices\n",
    "    int jx = floor((x[i] - x0) / dx);\n",
    "    int ix = floor((y[i] - y0) / dy);\n",
    "    int kx = floor((z[i] - z0) / dz);\n",
    "\n",
    "    // distances\n",
    "    double dxi = x[i] - (x0 + jx * dx);\n",
    "    double dyi = y[i] - (y0 + ix * dy);\n",
    "    double dzi = z[i] - (z0 + kx * dz);\n",
    "\n",
    "    // weights\n",
    "    double wijk =    (1.-dxi/dx)*(1.-dyi/dy)*(1.-dzi/dz);\n",
    "    double wi1jk =   (1.-dxi/dx)*(dyi/dy)   *(1.-dzi/dz);\n",
    "    double wij1k =   (dxi/dx)   *(1.-dyi/dy)*(1.-dzi/dz);\n",
    "    double wi1j1k =  (dxi/dx)   *(dyi/dy)   *(1.-dzi/dz);\n",
    "    double wijk1 =   (1.-dxi/dx)*(1.-dyi/dy)*(dzi/dz);\n",
    "    double wi1jk1 =  (1.-dxi/dx)*(dyi/dy)   *(dzi/dz);\n",
    "    double wij1k1 =  (dxi/dx)   *(1.-dyi/dy)*(dzi/dz);\n",
    "    double wi1j1k1 = (dxi/dx)   *(dyi/dy)   *(dzi/dz);\n",
    "\n",
    "    if (i < nparticles) {\n",
    "        if (jx >= 0 && jx < nx - 1 && ix >= 0 && ix < ny - 1 && kx >= 0 && kx < nz - 1)\n",
    "        {\n",
    "            atomicAdd(&grid1d[jx   + ix*nx     + kx*nx*ny],     wijk);\n",
    "            atomicAdd(&grid1d[jx+1 + ix*nx     + kx*nx*ny],     wij1k);\n",
    "            atomicAdd(&grid1d[jx   + (ix+1)*nx + kx*nx*ny],     wi1jk);\n",
    "            atomicAdd(&grid1d[jx+1 + (ix+1)*nx + kx*nx*ny],     wi1j1k);\n",
    "            atomicAdd(&grid1d[jx   + ix*nx     + (kx+1)*nx*ny], wijk1);\n",
    "            atomicAdd(&grid1d[jx+1 + ix*nx     + (kx+1)*nx*ny], wij1k1);\n",
    "            atomicAdd(&grid1d[jx   + (ix+1)*nx + (kx+1)*nx*ny], wi1jk1);\n",
    "            atomicAdd(&grid1d[jx+1 + (ix+1)*nx + (kx+1)*nx*ny], wi1j1k1);\n",
    "        }\n",
    "    }\n",
    "    ''', \n",
    "    'p2m_kernel_64atomics',\n",
    "    preamble='''\n",
    "// implementation from: http://docs.nvidia.com/cuda/cuda-c-programming-guide/#atomicadd\n",
    "// very slow, for testing purposes\n",
    "__device__ double atomicAdd(double* address, double val)\n",
    "{\n",
    "    unsigned long long int* address_as_ull =\n",
    "                              (unsigned long long int*)address;\n",
    "    unsigned long long int old = *address_as_ull, assumed;\n",
    "\n",
    "    do {\n",
    "        assumed = old;\n",
    "        old = atomicCAS(address_as_ull, assumed,\n",
    "                        __double_as_longlong(val +\n",
    "                               __longlong_as_double(assumed)));\n",
    "\n",
    "    // Note: uses integer comparison to avoid hang in case of NaN (since NaN != NaN)\n",
    "    } while (assumed != old);\n",
    "\n",
    "    return __longlong_as_double(old);\n",
    "}\n",
    "    '''\n",
    ")"
   ]
  },
  {
   "cell_type": "code",
   "execution_count": 194,
   "metadata": {
    "collapsed": false
   },
   "outputs": [
    {
     "name": "stdout",
     "output_type": "stream",
     "text": [
      "100 loops, best of 3: 42.4 ms per loop\n"
     ]
    }
   ],
   "source": [
    "%%timeit -n 100\n",
    "\n",
    "global mesh_charges\n",
    "mesh_charges = gp.zeros(mesh.shape, dtype=np.float64)\n",
    "\n",
    "p2m_kernel_64atomics(\n",
    "    # inputs:\n",
    "    np.int32(n_mp),\n",
    "    x, y, z_beamframe,\n",
    "    mesh.x0, mesh.y0, mesh.z0,\n",
    "    mesh.dx, mesh.dy, mesh.dz,\n",
    "    mesh.nx, mesh.ny, mesh.nz,\n",
    "    # outputs:\n",
    "    mesh_charges\n",
    ")\n",
    "context.synchronize()\n",
    "\n",
    "mesh_charges *= e"
   ]
  },
  {
   "cell_type": "code",
   "execution_count": 213,
   "metadata": {
    "collapsed": false
   },
   "outputs": [
    {
     "name": "stdout",
     "output_type": "stream",
     "text": [
      "Maximal relative error to reference value: 1.0\n"
     ]
    }
   ],
   "source": [
    "error = np.abs(((mesh_charges_ref - mesh_charges) / mesh_charges_ref).get())\n",
    "print ('Maximal relative error to reference value:', \n",
    "       np.max(error[np.isfinite(error)]))"
   ]
  },
  {
   "cell_type": "code",
   "execution_count": 215,
   "metadata": {
    "collapsed": false
   },
   "outputs": [
    {
     "data": {
      "text/plain": [
       "array([  5.01945832e-15,   2.27030466e-14,   5.09573350e-15, ...,\n",
       "         1.16753834e-14,   9.78148849e-15,   1.47571703e-14])"
      ]
     },
     "execution_count": 215,
     "metadata": {},
     "output_type": "execute_result"
    }
   ],
   "source": [
    "error[np.isfinite(error)]"
   ]
  },
  {
   "cell_type": "code",
   "execution_count": 208,
   "metadata": {
    "collapsed": false
   },
   "outputs": [
    {
     "name": "stderr",
     "output_type": "stream",
     "text": [
      "/home/oeftiger/anaconda/lib/python2.7/site-packages/ipykernel/__main__.py:1: RuntimeWarning: invalid value encountered in greater\n",
      "  if __name__ == '__main__':\n"
     ]
    },
    {
     "data": {
      "text/plain": [
       "(array([27, 27, 28, 28, 33, 33, 34, 34, 61, 61, 61, 61]),\n",
       " array([31, 32, 31, 32, 63, 63, 63, 63, 23, 23, 24, 24]),\n",
       " array([63, 63, 63, 63, 31, 32, 31, 32, 22, 23, 22, 23]))"
      ]
     },
     "execution_count": 208,
     "metadata": {},
     "output_type": "execute_result"
    }
   ],
   "source": [
    "bad_ids = np.where(np.isfinite(error) & (error > 1e-5))\n",
    "bad_ids"
   ]
  },
  {
   "cell_type": "code",
   "execution_count": 209,
   "metadata": {
    "collapsed": false
   },
   "outputs": [
    {
     "data": {
      "text/plain": [
       "array([ 1.  ,  1.  ,  1.  ,  1.  ,  1.  ,  1.  ,  1.  ,  1.  ,  0.96,\n",
       "        0.96,  0.96,  0.96])"
      ]
     },
     "execution_count": 209,
     "metadata": {},
     "output_type": "execute_result"
    }
   ],
   "source": [
    "error[bad_ids]"
   ]
  },
  {
   "cell_type": "code",
   "execution_count": 211,
   "metadata": {
    "collapsed": false
   },
   "outputs": [
    {
     "data": {
      "text/plain": [
       "array(2.77751934668147e-34)"
      ]
     },
     "execution_count": 211,
     "metadata": {},
     "output_type": "execute_result"
    }
   ],
   "source": [
    "mesh_charges_ref[61,23,22]"
   ]
  },
  {
   "cell_type": "code",
   "execution_count": 212,
   "metadata": {
    "collapsed": false
   },
   "outputs": [
    {
     "data": {
      "text/plain": [
       "array(5.44393791949572e-34)"
      ]
     },
     "execution_count": 212,
     "metadata": {},
     "output_type": "execute_result"
    }
   ],
   "source": [
    "mesh_charges[61,23,22]"
   ]
  },
  {
   "cell_type": "markdown",
   "metadata": {},
   "source": [
    "$\\Longrightarrow$ so we gain even further $10\\%$ by integrating everything into one kernel, i.e. in total a factor $1.9$.\n",
    "\n",
    "What about the impact of using 64bit software-emulated atomics compared to 32bit hardware-accelerated atomics?"
   ]
  },
  {
   "cell_type": "code",
   "execution_count": 216,
   "metadata": {
    "collapsed": false
   },
   "outputs": [
    {
     "name": "stdout",
     "output_type": "stream",
     "text": [
      "100 loops, best of 3: 58.6 ms per loop\n"
     ]
    }
   ],
   "source": [
    "%%timeit -n 100 \n",
    "global mesh_charges_ref2\n",
    "mesh_charges_ref2 = algorithm.particles_to_mesh(x, y, z_beamframe, dtype=np.float32)"
   ]
  },
  {
   "cell_type": "code",
   "execution_count": 217,
   "metadata": {
    "collapsed": false
   },
   "outputs": [
    {
     "name": "stdout",
     "output_type": "stream",
     "text": [
      "Maximal relative error to reference value: 1.96382349176e-06\n"
     ]
    }
   ],
   "source": [
    "error = np.abs(((mesh_charges_ref - mesh_charges_ref2) / mesh_charges_ref).get())\n",
    "print ('Maximal relative error to reference value:', \n",
    "       np.max(error[np.isfinite(error)]))"
   ]
  },
  {
   "cell_type": "markdown",
   "metadata": {},
   "source": [
    "As implemented so far, the 32bit hardware-accelerated atomics give a factor $1.4$. How does this compare to an integrated kernel 32bit atomics version?"
   ]
  },
  {
   "cell_type": "code",
   "execution_count": 125,
   "metadata": {
    "collapsed": true
   },
   "outputs": [],
   "source": [
    "p2m_kernel_32atomics = ElementwiseKernel(\n",
    "    # inputs:\n",
    "    'const int nparticles, '\n",
    "    'double* x, double* y, double* z, '\n",
    "    'const double x0, const double y0, const double z0, '\n",
    "    'const double dx, const double dy, const double dz, '\n",
    "    'const int nx, const int ny, const int nz, '\n",
    "    # outputs:\n",
    "    'float* grid1d',\n",
    "    '''\n",
    "    // indices\n",
    "    int jx = floor((x[i] - x0) / dx);\n",
    "    int ix = floor((y[i] - y0) / dy);\n",
    "    int kx = floor((z[i] - z0) / dz);\n",
    "\n",
    "    // distances\n",
    "    float dxi = x[i] - (x0 + jx * dx);\n",
    "    float dyi = y[i] - (y0 + ix * dy);\n",
    "    float dzi = z[i] - (z0 + kx * dz);\n",
    "\n",
    "    // weights\n",
    "    float wijk =    (1.-dxi/dx)*(1.-dyi/dy)*(1.-dzi/dz);\n",
    "    float wi1jk =   (1.-dxi/dx)*(dyi/dy)   *(1.-dzi/dz);\n",
    "    float wij1k =   (dxi/dx)   *(1.-dyi/dy)*(1.-dzi/dz);\n",
    "    float wi1j1k =  (dxi/dx)   *(dyi/dy)   *(1.-dzi/dz);\n",
    "    float wijk1 =   (1.-dxi/dx)*(1.-dyi/dy)*(dzi/dz);\n",
    "    float wi1jk1 =  (1.-dxi/dx)*(dyi/dy)   *(dzi/dz);\n",
    "    float wij1k1 =  (dxi/dx)   *(1.-dyi/dy)*(dzi/dz);\n",
    "    float wi1j1k1 = (dxi/dx)   *(dyi/dy)   *(dzi/dz);\n",
    "\n",
    "    if (i < nparticles) {\n",
    "        if (jx >= 0 && jx < nx - 1 && ix >= 0 && ix < ny - 1 && kx >= 0 && kx < nz - 1)\n",
    "        {\n",
    "            atomicAdd(&grid1d[jx   + ix*nx     + kx*nx*ny],     wijk);\n",
    "            atomicAdd(&grid1d[jx+1 + ix*nx     + kx*nx*ny],     wij1k);\n",
    "            atomicAdd(&grid1d[jx   + (ix+1)*nx + kx*nx*ny],     wi1jk);\n",
    "            atomicAdd(&grid1d[jx+1 + (ix+1)*nx + kx*nx*ny],     wi1j1k);\n",
    "            atomicAdd(&grid1d[jx   + ix*nx     + (kx+1)*nx*ny], wijk1);\n",
    "            atomicAdd(&grid1d[jx+1 + ix*nx     + (kx+1)*nx*ny], wij1k1);\n",
    "            atomicAdd(&grid1d[jx   + (ix+1)*nx + (kx+1)*nx*ny], wi1jk1);\n",
    "            atomicAdd(&grid1d[jx+1 + (ix+1)*nx + (kx+1)*nx*ny], wi1j1k1);\n",
    "        }\n",
    "    }\n",
    "    ''', \n",
    "    'p2m_kernel_32atomics'\n",
    ")"
   ]
  },
  {
   "cell_type": "code",
   "execution_count": 227,
   "metadata": {
    "collapsed": false
   },
   "outputs": [
    {
     "name": "stdout",
     "output_type": "stream",
     "text": [
      "100 loops, best of 3: 17.8 ms per loop\n"
     ]
    }
   ],
   "source": [
    "%%timeit -n 100\n",
    "\n",
    "global mesh_charges\n",
    "mesh_charges = gp.zeros(mesh.shape, dtype=np.float32)\n",
    "\n",
    "p2m_kernel_32atomics(\n",
    "    # inputs:\n",
    "    np.int32(n_mp),\n",
    "    x, y, z_beamframe,\n",
    "    mesh.x0, mesh.y0, mesh.z0,\n",
    "    mesh.dx, mesh.dy, mesh.dz,\n",
    "    mesh.nx, mesh.ny, mesh.nz,\n",
    "    # outputs:\n",
    "    mesh_charges\n",
    ")\n",
    "context.synchronize()\n",
    "\n",
    "mesh_charges.astype(np.float64)\n",
    "\n",
    "mesh_charges *= e"
   ]
  },
  {
   "cell_type": "code",
   "execution_count": 228,
   "metadata": {
    "collapsed": false
   },
   "outputs": [
    {
     "name": "stdout",
     "output_type": "stream",
     "text": [
      "Maximal relative error to reference value: 26087905.6234\n"
     ]
    }
   ],
   "source": [
    "error = np.abs(((mesh_charges_ref - mesh_charges) / mesh_charges_ref).get())\n",
    "print ('Maximal relative error to reference value:', \n",
    "       np.max(error[np.isfinite(error)]))"
   ]
  },
  {
   "cell_type": "code",
   "execution_count": 229,
   "metadata": {
    "collapsed": false
   },
   "outputs": [
    {
     "data": {
      "text/plain": [
       "array([  2.60879053e+07,   2.60879056e+07,   2.60879047e+07, ...,\n",
       "         2.20867286e-08,   1.20827471e-06,   9.42780486e-08])"
      ]
     },
     "execution_count": 229,
     "metadata": {},
     "output_type": "execute_result"
    }
   ],
   "source": [
    "error[np.isfinite(error)]"
   ]
  },
  {
   "cell_type": "markdown",
   "metadata": {},
   "source": [
    "$\\Longrightarrow$ the integrated kernel with hardware-accelerated 32bit atomics is a factor $3.3$ quicker than the equivalent currently implemented `p2m` function!\n",
    "\n",
    "This version is also $4.7\\times$ quicker than the currently implemented 64bit atomics `p2m` function, as well as $2.4\\times$ quicker than the integrated kernel with 64bit atomics."
   ]
  },
  {
   "cell_type": "markdown",
   "metadata": {},
   "source": [
    "##### SourceModule + grid-striding quicker?"
   ]
  },
  {
   "cell_type": "code",
   "execution_count": 236,
   "metadata": {
    "collapsed": true
   },
   "outputs": [],
   "source": [
    "from pycuda.compiler import SourceModule"
   ]
  },
  {
   "cell_type": "code",
   "execution_count": 239,
   "metadata": {
    "collapsed": false
   },
   "outputs": [
    {
     "data": {
      "text/plain": [
       "<pycuda._driver.Function at 0x7ff6e2f1d320>"
      ]
     },
     "execution_count": 239,
     "metadata": {},
     "output_type": "execute_result"
    }
   ],
   "source": [
    "# launch with 1D grid / block!\n",
    "p2m_mod = SourceModule('''\n",
    "// implementation from: http://docs.nvidia.com/cuda/cuda-c-programming-guide/#atomicadd\n",
    "// very slow, for testing purposes\n",
    "__device__ double atomicAdd(double* address, double val)\n",
    "{\n",
    "    unsigned long long int* address_as_ull =\n",
    "                              (unsigned long long int*)address;\n",
    "    unsigned long long int old = *address_as_ull, assumed;\n",
    "\n",
    "    do {\n",
    "        assumed = old;\n",
    "        old = atomicCAS(address_as_ull, assumed,\n",
    "                        __double_as_longlong(val +\n",
    "                               __longlong_as_double(assumed)));\n",
    "\n",
    "    // Note: uses integer comparison to avoid hang in case of NaN (since NaN != NaN)\n",
    "    } while (assumed != old);\n",
    "\n",
    "    return __longlong_as_double(old);\n",
    "}\n",
    "\n",
    "extern \"C\" {\n",
    "    __global__ void p2m_kernel_64atomics_sm(\n",
    "            // inputs:\n",
    "            const int nparticles, \n",
    "            double* x, double* y, double* z,\n",
    "            const double x0, const double y0, const double z0,\n",
    "            const double dx, const double dy, const double dz,\n",
    "            const int nx, const int ny, const int nz, \n",
    "            // outputs:\n",
    "            double* grid1d) {\n",
    "        \n",
    "        // grid-striding: \n",
    "        // https://devblogs.nvidia.com/parallelforall/cuda-pro-tip-write-flexible-kernels-grid-stride-loops/\n",
    "        for (int i = blockIdx.x * blockDim.x + threadIdx.x;\n",
    "                 i < nparticles;\n",
    "                 i += blockDim.x * gridDim.x) {\n",
    "             \n",
    "            // mesh indices for particle:\n",
    "            int jx = floor((x[i] - x0) / dx);\n",
    "            int ix = floor((y[i] - y0) / dy);\n",
    "            int kx = floor((z[i] - z0) / dz);\n",
    "            \n",
    "            if (jx >= 0 && jx < nx - 1 &&\n",
    "                ix >= 0 && ix < ny - 1 &&\n",
    "                kx >= 0 && kx < nz - 1) {\n",
    "                // particle is located on the grid!\n",
    "\n",
    "                // distances to cell origin:\n",
    "                double dxi = x[i] - (x0 + jx * dx);\n",
    "                double dyi = y[i] - (y0 + ix * dy);\n",
    "                double dzi = z[i] - (z0 + kx * dz);\n",
    "\n",
    "                // weights assigned to all cell corners:\n",
    "                double wijk =    (1.-dxi/dx)*(1.-dyi/dy)*(1.-dzi/dz);\n",
    "                double wi1jk =   (1.-dxi/dx)*(dyi/dy)   *(1.-dzi/dz);\n",
    "                double wij1k =   (dxi/dx)   *(1.-dyi/dy)*(1.-dzi/dz);\n",
    "                double wi1j1k =  (dxi/dx)   *(dyi/dy)   *(1.-dzi/dz);\n",
    "                double wijk1 =   (1.-dxi/dx)*(1.-dyi/dy)*(dzi/dz);\n",
    "                double wi1jk1 =  (1.-dxi/dx)*(dyi/dy)   *(dzi/dz);\n",
    "                double wij1k1 =  (dxi/dx)   *(1.-dyi/dy)*(dzi/dz);\n",
    "                double wi1j1k1 = (dxi/dx)   *(dyi/dy)   *(dzi/dz);\n",
    "\n",
    "                // add all 8 cell corners to mesh count array:\n",
    "                atomicAdd(&grid1d[jx   + ix*nx     + kx*nx*ny],     wijk);\n",
    "                atomicAdd(&grid1d[jx+1 + ix*nx     + kx*nx*ny],     wij1k);\n",
    "                atomicAdd(&grid1d[jx   + (ix+1)*nx + kx*nx*ny],     wi1jk);\n",
    "                atomicAdd(&grid1d[jx+1 + (ix+1)*nx + kx*nx*ny],     wi1j1k);\n",
    "                atomicAdd(&grid1d[jx   + ix*nx     + (kx+1)*nx*ny], wijk1);\n",
    "                atomicAdd(&grid1d[jx+1 + ix*nx     + (kx+1)*nx*ny], wij1k1);\n",
    "                atomicAdd(&grid1d[jx   + (ix+1)*nx + (kx+1)*nx*ny], wi1jk1);\n",
    "                atomicAdd(&grid1d[jx+1 + (ix+1)*nx + (kx+1)*nx*ny], wi1j1k1);\n",
    "            }\n",
    "        }\n",
    "    }\n",
    "}\n",
    "'''\n",
    ")\n",
    "\n",
    "p2m_kernel_64atomics_sm = p2m_mod.get_function('p2m_kernel_64atomics_sm')\n",
    "p2m_kernel_64atomics_sm.prepare('iPPPddddddiiiP')"
   ]
  },
  {
   "cell_type": "code",
   "execution_count": 253,
   "metadata": {
    "collapsed": false
   },
   "outputs": [
    {
     "name": "stdout",
     "output_type": "stream",
     "text": [
      "100 loops, best of 3: 42.6 ms per loop\n"
     ]
    }
   ],
   "source": [
    "%%timeit -n 100\n",
    "\n",
    "global mesh_charges\n",
    "mesh_charges = gp.zeros(mesh.shape, dtype=np.float64)\n",
    "\n",
    "p2m_kernel_64atomics_sm.prepared_call(\n",
    "    # grid and block: (remember grid-striding!)\n",
    "    (idivup(n_mp, 256), 1, 1), (256, 1, 1),\n",
    "    # inputs:\n",
    "    np.int32(n_mp),\n",
    "    x.gpudata, y.gpudata, z_beamframe.gpudata,\n",
    "    mesh.x0, mesh.y0, mesh.z0,\n",
    "    mesh.dx, mesh.dy, mesh.dz,\n",
    "    mesh.nx, mesh.ny, mesh.nz,\n",
    "    # outputs:\n",
    "    mesh_charges.gpudata,\n",
    ")\n",
    "context.synchronize()\n",
    "\n",
    "mesh_charges *= e"
   ]
  },
  {
   "cell_type": "markdown",
   "metadata": {},
   "source": [
    "$\\Longrightarrow$ grid-striding does not seem to bring any speed-up but at least it makes CPU/GPU code more exchangable!"
   ]
  },
  {
   "cell_type": "code",
   "execution_count": 234,
   "metadata": {
    "collapsed": false
   },
   "outputs": [],
   "source": [
    "# get arrays back to CPU host RAM:\n",
    "x, y, z_beamframe = x.get(), y.get(), z_beamframe.get()"
   ]
  },
  {
   "cell_type": "markdown",
   "metadata": {
    "collapsed": true
   },
   "source": [
    "### CPU version of C/CUDA code?"
   ]
  },
  {
   "cell_type": "code",
   "execution_count": 48,
   "metadata": {
    "collapsed": true
   },
   "outputs": [],
   "source": [
    "%load_ext Cython"
   ]
  },
  {
   "cell_type": "code",
   "execution_count": 49,
   "metadata": {
    "collapsed": false
   },
   "outputs": [],
   "source": [
    "%load_ext autoreload\n",
    "%autoreload 2"
   ]
  },
  {
   "cell_type": "code",
   "execution_count": 50,
   "metadata": {
    "collapsed": false
   },
   "outputs": [],
   "source": [
    "# compilable with $gcc -std=c99 -fPIC -shared -o get_weights_c.so get_weights_c.c -lm \n",
    "with open('get_weights_c.c', 'wt') as fh:\n",
    "    fh.write('''\n",
    "#include <math.h>\n",
    "\n",
    "void get_weights_c(\n",
    "    // inputs:\n",
    "    double* x, double* y, double* z,\n",
    "    int n,\n",
    "    // outputs:\n",
    "    double* weight_ijk, double* weight_i1jk,\n",
    "    double* weight_ij1k, double* weight_i1j1k,\n",
    "    double* weight_ijk1, double* weight_i1jk1,\n",
    "    double* weight_ij1k1, double* weight_i1j1k1\n",
    ") {{\n",
    "    double jj, ii, kk;\n",
    "    double dxi, dyi, dzi;\n",
    "    for (int i = 0; i < n; i++) {{\n",
    "        // indices\n",
    "        double jj = floor((x[i] - {x0:{prec}}) / {dx:{prec}});\n",
    "        double ii = floor((y[i] - {y0:{prec}}) / {dy:{prec}});\n",
    "        double kk = floor((z[i] - {z0:{prec}}) / {dz:{prec}});\n",
    "\n",
    "        // distances\n",
    "        double dxi = x[i] - ({x0:{prec}} + jj * {dx:{prec}});\n",
    "        double dyi = y[i] - ({y0:{prec}} + ii * {dy:{prec}});\n",
    "        double dzi = z[i] - ({z0:{prec}} + kk * {dz:{prec}});\n",
    "\n",
    "        // weights\n",
    "        weight_ijk[i] =    (1.-dxi/{dx:{prec}})*(1.-dyi/{dy:{prec}})*(1.-dzi/{dz:{prec}});\n",
    "        weight_i1jk[i] =   (1.-dxi/{dx:{prec}})*(dyi/{dy:{prec}})   *(1.-dzi/{dz:{prec}});\n",
    "        weight_ij1k[i] =   (dxi/{dx:{prec}})   *(1.-dyi/{dy:{prec}})*(1.-dzi/{dz:{prec}});\n",
    "        weight_i1j1k[i] =  (dxi/{dx:{prec}})   *(dyi/{dy:{prec}})   *(1.-dzi/{dz:{prec}});\n",
    "        weight_ijk1[i] =   (1.-dxi/{dx:{prec}})*(1.-dyi/{dy:{prec}})*(dzi/{dz:{prec}});\n",
    "        weight_i1jk1[i] =  (1.-dxi/{dx:{prec}})*(dyi/{dy:{prec}})   *(dzi/{dz:{prec}});\n",
    "        weight_ij1k1[i] =  (dxi/{dx:{prec}})   *(1.-dyi/{dy:{prec}})*(dzi/{dz:{prec}});\n",
    "        weight_i1j1k1[i] = (dxi/{dx:{prec}})   *(dyi/{dy:{prec}})   *(dzi/{dz:{prec}});\n",
    "    }}\n",
    "}}\n",
    "    '''.format(\n",
    "        x0=mesh.x0, y0=mesh.y0, z0=mesh.z0, \n",
    "        dx=mesh.dx, dy=mesh.dy, dz=mesh.dz,\n",
    "        prec=\".17\")\n",
    "    )"
   ]
  },
  {
   "cell_type": "markdown",
   "metadata": {},
   "source": [
    "##### ctypes import"
   ]
  },
  {
   "cell_type": "code",
   "execution_count": 51,
   "metadata": {
    "collapsed": true
   },
   "outputs": [],
   "source": [
    "!gcc -std=c99 -fPIC -shared -o get_weights_c.so get_weights_c.c -lm"
   ]
  },
  {
   "cell_type": "code",
   "execution_count": 52,
   "metadata": {
    "collapsed": true
   },
   "outputs": [],
   "source": [
    "import ctypes"
   ]
  },
  {
   "cell_type": "code",
   "execution_count": 53,
   "metadata": {
    "collapsed": true
   },
   "outputs": [],
   "source": [
    "from numpy.ctypeslib import ndpointer\n",
    "np_double_p = ndpointer(dtype=np.float64)"
   ]
  },
  {
   "cell_type": "code",
   "execution_count": 54,
   "metadata": {
    "collapsed": true
   },
   "outputs": [],
   "source": [
    "dll = ctypes.cdll.LoadLibrary('get_weights_c.so')\n",
    "dll.get_weights_c.restype = None\n",
    "dll.get_weights_c.argtypes = [\n",
    "    np_double_p, np_double_p, np_double_p, ctypes.c_int, \n",
    "    np_double_p, np_double_p, np_double_p, np_double_p,\n",
    "    np_double_p, np_double_p, np_double_p, np_double_p]"
   ]
  },
  {
   "cell_type": "code",
   "execution_count": 55,
   "metadata": {
    "collapsed": false
   },
   "outputs": [
    {
     "name": "stdout",
     "output_type": "stream",
     "text": [
      "10 loops, best of 3: 223 ms per loop\n"
     ]
    }
   ],
   "source": [
    "%%timeit -n 10\n",
    "\n",
    "global weight_ijk, weight_i1jk, weight_ij1k, weight_i1j1k, \\\n",
    "weight_ijk1, weight_i1jk1, weight_ij1k1, weight_i1j1k1\n",
    "\n",
    "(weight_ijk, weight_i1jk, weight_ij1k, weight_i1j1k,\n",
    "weight_ijk1, weight_i1jk1, weight_ij1k1, weight_i1j1k1) = (\n",
    "    np.empty_like(x) for _ in range(8)\n",
    ")\n",
    "\n",
    "dll.get_weights_c(\n",
    "    x, y, z_beamframe, ctypes.c_int(len(x)),\n",
    "    weight_ijk, weight_i1jk, weight_ij1k, weight_i1j1k,\n",
    "    weight_ijk1, weight_i1jk1, weight_ij1k1, weight_i1j1k1\n",
    ")"
   ]
  },
  {
   "cell_type": "code",
   "execution_count": 56,
   "metadata": {
    "collapsed": false
   },
   "outputs": [
    {
     "data": {
      "text/plain": [
       "True"
      ]
     },
     "execution_count": 56,
     "metadata": {},
     "output_type": "execute_result"
    }
   ],
   "source": [
    "np.allclose(weights_numpy[0], weight_ijk, atol=1e-14, rtol=1e-15)"
   ]
  },
  {
   "cell_type": "markdown",
   "metadata": {},
   "source": [
    "##### cython import"
   ]
  },
  {
   "cell_type": "code",
   "execution_count": 57,
   "metadata": {
    "collapsed": false
   },
   "outputs": [],
   "source": [
    "%%cython --name get_weights_cy\n",
    "# distutils: sources = ./get_weights_c.c\n",
    "# distutils: extra_compile_args = -std=c99 -O3 -lm\n",
    "\n",
    "import numpy as np\n",
    "cimport numpy as np\n",
    "\n",
    "cdef extern void get_weights_c(\n",
    "        # inputs:\n",
    "        double* x, double* y, double* z,\n",
    "        int n,\n",
    "        # outputs:\n",
    "        double* weight_ijk, double* weight_i1jk,\n",
    "        double* weight_ij1k, double* weight_i1j1k,\n",
    "        double* weight_ijk1, double* weight_i1jk1,\n",
    "        double* weight_ij1k1, double* weight_i1j1k1)\n",
    "\n",
    "def get_weights(x, y, z):\n",
    "    cdef np.ndarray[np.double_t, ndim=1, mode=\"c\"] x_c = np.ascontiguousarray(x, dtype=np.double)\n",
    "    cdef np.ndarray[np.double_t, ndim=1, mode=\"c\"] y_c = np.ascontiguousarray(y, dtype=np.double)\n",
    "    cdef np.ndarray[np.double_t, ndim=1, mode=\"c\"] z_c = np.ascontiguousarray(z, dtype=np.double)\n",
    "    \n",
    "    cdef np.ndarray[np.double_t, ndim=1, mode=\"c\"] weight_ijk = np.empty_like(x_c)\n",
    "    cdef np.ndarray[np.double_t, ndim=1, mode=\"c\"] weight_i1jk = np.empty_like(x_c)\n",
    "    cdef np.ndarray[np.double_t, ndim=1, mode=\"c\"] weight_ij1k = np.empty_like(x_c)\n",
    "    cdef np.ndarray[np.double_t, ndim=1, mode=\"c\"] weight_i1j1k = np.empty_like(x_c)\n",
    "    cdef np.ndarray[np.double_t, ndim=1, mode=\"c\"] weight_ijk1 = np.empty_like(x_c)\n",
    "    cdef np.ndarray[np.double_t, ndim=1, mode=\"c\"] weight_i1jk1 = np.empty_like(x_c)\n",
    "    cdef np.ndarray[np.double_t, ndim=1, mode=\"c\"] weight_ij1k1 = np.empty_like(x_c)\n",
    "    cdef np.ndarray[np.double_t, ndim=1, mode=\"c\"] weight_i1j1k1 = np.empty_like(x_c)\n",
    "    \n",
    "    get_weights_c(\n",
    "        &x_c[0], &y_c[0], &z_c[0], len(x_c),\n",
    "        &weight_ijk[0], &weight_i1jk[0],\n",
    "        &weight_ij1k[0], &weight_i1j1k[0],\n",
    "        &weight_ijk1[0], &weight_i1jk1[0],\n",
    "        &weight_ij1k1[0], &weight_i1j1k1[0]\n",
    "    )\n",
    "    \n",
    "    return (weight_ijk, weight_i1jk, weight_ij1k, weight_i1j1k,\n",
    "            weight_ijk1, weight_i1jk1, weight_ij1k1, weight_i1j1k1)"
   ]
  },
  {
   "cell_type": "code",
   "execution_count": 58,
   "metadata": {
    "collapsed": true
   },
   "outputs": [],
   "source": [
    "import get_weights_cy"
   ]
  },
  {
   "cell_type": "code",
   "execution_count": 59,
   "metadata": {
    "collapsed": false
   },
   "outputs": [
    {
     "name": "stdout",
     "output_type": "stream",
     "text": [
      "10 loops, best of 3: 58.4 ms per loop\n"
     ]
    }
   ],
   "source": [
    "%%timeit -n 10\n",
    "\n",
    "global weight_ijk, weight_i1jk, weight_ij1k, weight_i1j1k, \\\n",
    "weight_ijk1, weight_i1jk1, weight_ij1k1, weight_i1j1k1\n",
    "\n",
    "(weight_ijk, weight_i1jk, weight_ij1k, weight_i1j1k,\n",
    "weight_ijk1, weight_i1jk1, weight_ij1k1, weight_i1j1k1) = \\\n",
    "    get_weights_cy.get_weights(x, y, z_beamframe)"
   ]
  },
  {
   "cell_type": "code",
   "execution_count": 60,
   "metadata": {
    "collapsed": false
   },
   "outputs": [
    {
     "data": {
      "text/plain": [
       "True"
      ]
     },
     "execution_count": 60,
     "metadata": {},
     "output_type": "execute_result"
    }
   ],
   "source": [
    "np.allclose(weights_numpy[0], weight_ijk, atol=1e-14, rtol=1e-15)"
   ]
  },
  {
   "cell_type": "markdown",
   "metadata": {},
   "source": [
    "##### $\\Longrightarrow$ so cython is 4x faster than the normal numpy version or the compiled C ctypes-imported version!"
   ]
  },
  {
   "cell_type": "code",
   "execution_count": null,
   "metadata": {
    "collapsed": true
   },
   "outputs": [],
   "source": []
  }
 ],
 "metadata": {
  "kernelspec": {
   "display_name": "Python 2",
   "language": "python",
   "name": "python2"
  },
  "language_info": {
   "codemirror_mode": {
    "name": "ipython",
    "version": 2
   },
   "file_extension": ".py",
   "mimetype": "text/x-python",
   "name": "python",
   "nbconvert_exporter": "python",
   "pygments_lexer": "ipython2",
   "version": "2.7.11"
  }
 },
 "nbformat": 4,
 "nbformat_minor": 0
}
